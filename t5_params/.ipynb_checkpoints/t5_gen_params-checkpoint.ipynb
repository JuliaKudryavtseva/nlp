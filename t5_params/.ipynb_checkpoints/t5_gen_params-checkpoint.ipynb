{
 "cells": [
  {
   "cell_type": "code",
   "execution_count": 1,
   "id": "c13648fb-efab-4112-8e02-2fd8fbc55211",
   "metadata": {},
   "outputs": [
    {
     "data": {
      "application/javascript": [
       "IPython.notebook.set_autosave_interval(30000)"
      ]
     },
     "metadata": {},
     "output_type": "display_data"
    },
    {
     "name": "stdout",
     "output_type": "stream",
     "text": [
      "Autosaving every 30 seconds\n"
     ]
    }
   ],
   "source": [
    "%autosave 30"
   ]
  },
  {
   "cell_type": "code",
   "execution_count": 2,
   "id": "9fefc3b0-be4d-4b4a-8412-dab6214adce1",
   "metadata": {},
   "outputs": [
    {
     "name": "stdout",
     "output_type": "stream",
     "text": [
      "Collecting torch\n",
      "  Downloading torch-2.0.0-cp310-cp310-manylinux1_x86_64.whl (619.9 MB)\n",
      "\u001b[2K     \u001b[90m━━━━━━━━━━━━━━━━━━━━━━━━━━━━━━━━━━━━━━━\u001b[0m \u001b[32m619.9/619.9 MB\u001b[0m \u001b[31m4.3 MB/s\u001b[0m eta \u001b[36m0:00:00\u001b[0m00:01\u001b[0m00:01\u001b[0m\n",
      "\u001b[?25hCollecting nvidia-cusparse-cu11==11.7.4.91\n",
      "  Downloading nvidia_cusparse_cu11-11.7.4.91-py3-none-manylinux1_x86_64.whl (173.2 MB)\n",
      "\u001b[2K     \u001b[90m━━━━━━━━━━━━━━━━━━━━━━━━━━━━━━━━━━━━━━\u001b[0m \u001b[32m173.2/173.2 MB\u001b[0m \u001b[31m11.2 MB/s\u001b[0m eta \u001b[36m0:00:00\u001b[0m00:01\u001b[0m00:01\u001b[0m\n",
      "\u001b[?25hCollecting nvidia-curand-cu11==10.2.10.91\n",
      "  Downloading nvidia_curand_cu11-10.2.10.91-py3-none-manylinux1_x86_64.whl (54.6 MB)\n",
      "\u001b[2K     \u001b[90m━━━━━━━━━━━━━━━━━━━━━━━━━━━━━━━━━━━━━━━━\u001b[0m \u001b[32m54.6/54.6 MB\u001b[0m \u001b[31m22.5 MB/s\u001b[0m eta \u001b[36m0:00:00\u001b[0m00:01\u001b[0m00:01\u001b[0m\n",
      "\u001b[?25hCollecting nvidia-nvtx-cu11==11.7.91\n",
      "  Downloading nvidia_nvtx_cu11-11.7.91-py3-none-manylinux1_x86_64.whl (98 kB)\n",
      "\u001b[2K     \u001b[90m━━━━━━━━━━━━━━━━━━━━━━━━━━━━━━━━━━━━━━━━\u001b[0m \u001b[32m98.6/98.6 kB\u001b[0m \u001b[31m39.9 MB/s\u001b[0m eta \u001b[36m0:00:00\u001b[0m\n",
      "\u001b[?25hRequirement already satisfied: typing-extensions in /opt/conda/lib/python3.10/site-packages (from torch) (4.4.0)\n",
      "Collecting filelock\n",
      "  Downloading filelock-3.10.7-py3-none-any.whl (10 kB)\n",
      "Collecting nvidia-cuda-runtime-cu11==11.7.99\n",
      "  Downloading nvidia_cuda_runtime_cu11-11.7.99-py3-none-manylinux1_x86_64.whl (849 kB)\n",
      "\u001b[2K     \u001b[90m━━━━━━━━━━━━━━━━━━━━━━━━━━━━━━━━━━━━━━\u001b[0m \u001b[32m849.3/849.3 kB\u001b[0m \u001b[31m49.9 MB/s\u001b[0m eta \u001b[36m0:00:00\u001b[0m\n",
      "\u001b[?25hCollecting nvidia-cudnn-cu11==8.5.0.96\n",
      "  Downloading nvidia_cudnn_cu11-8.5.0.96-2-py3-none-manylinux1_x86_64.whl (557.1 MB)\n",
      "\u001b[2K     \u001b[90m━━━━━━━━━━━━━━━━━━━━━━━━━━━━━━━━━━━━━━━\u001b[0m \u001b[32m557.1/557.1 MB\u001b[0m \u001b[31m5.0 MB/s\u001b[0m eta \u001b[36m0:00:00\u001b[0m00:01\u001b[0m00:01\u001b[0m\n",
      "\u001b[?25hCollecting nvidia-cublas-cu11==11.10.3.66\n",
      "  Downloading nvidia_cublas_cu11-11.10.3.66-py3-none-manylinux1_x86_64.whl (317.1 MB)\n",
      "\u001b[2K     \u001b[90m━━━━━━━━━━━━━━━━━━━━━━━━━━━━━━━━━━━━━━━\u001b[0m \u001b[32m317.1/317.1 MB\u001b[0m \u001b[31m7.7 MB/s\u001b[0m eta \u001b[36m0:00:00\u001b[0m00:01\u001b[0m00:01\u001b[0m\n",
      "\u001b[?25hCollecting nvidia-cuda-nvrtc-cu11==11.7.99\n",
      "  Downloading nvidia_cuda_nvrtc_cu11-11.7.99-2-py3-none-manylinux1_x86_64.whl (21.0 MB)\n",
      "\u001b[2K     \u001b[90m━━━━━━━━━━━━━━━━━━━━━━━━━━━━━━━━━━━━━━━━\u001b[0m \u001b[32m21.0/21.0 MB\u001b[0m \u001b[31m28.6 MB/s\u001b[0m eta \u001b[36m0:00:00\u001b[0m00:01\u001b[0m00:01\u001b[0m\n",
      "\u001b[?25hCollecting nvidia-cuda-cupti-cu11==11.7.101\n",
      "  Downloading nvidia_cuda_cupti_cu11-11.7.101-py3-none-manylinux1_x86_64.whl (11.8 MB)\n",
      "\u001b[2K     \u001b[90m━━━━━━━━━━━━━━━━━━━━━━━━━━━━━━━━━━━━━━━━\u001b[0m \u001b[32m11.8/11.8 MB\u001b[0m \u001b[31m29.4 MB/s\u001b[0m eta \u001b[36m0:00:00\u001b[0m00:01\u001b[0m00:01\u001b[0m\n",
      "\u001b[?25hRequirement already satisfied: jinja2 in /opt/conda/lib/python3.10/site-packages (from torch) (3.1.2)\n",
      "Collecting nvidia-nccl-cu11==2.14.3\n",
      "  Downloading nvidia_nccl_cu11-2.14.3-py3-none-manylinux1_x86_64.whl (177.1 MB)\n",
      "\u001b[2K     \u001b[90m━━━━━━━━━━━━━━━━━━━━━━━━━━━━━━━━━━━━━━\u001b[0m \u001b[32m177.1/177.1 MB\u001b[0m \u001b[31m12.4 MB/s\u001b[0m eta \u001b[36m0:00:00\u001b[0m00:01\u001b[0m00:01\u001b[0m\n",
      "\u001b[?25hCollecting triton==2.0.0\n",
      "  Downloading triton-2.0.0-1-cp310-cp310-manylinux2014_x86_64.manylinux_2_17_x86_64.whl (63.3 MB)\n",
      "\u001b[2K     \u001b[90m━━━━━━━━━━━━━━━━━━━━━━━━━━━━━━━━━━━━━━━━\u001b[0m \u001b[32m63.3/63.3 MB\u001b[0m \u001b[31m20.6 MB/s\u001b[0m eta \u001b[36m0:00:00\u001b[0m00:01\u001b[0m00:01\u001b[0m\n",
      "\u001b[?25hCollecting nvidia-cusolver-cu11==11.4.0.1\n",
      "  Downloading nvidia_cusolver_cu11-11.4.0.1-2-py3-none-manylinux1_x86_64.whl (102.6 MB)\n",
      "\u001b[2K     \u001b[90m━━━━━━━━━━━━━━━━━━━━━━━━━━━━━━━━━━━━━━\u001b[0m \u001b[32m102.6/102.6 MB\u001b[0m \u001b[31m19.0 MB/s\u001b[0m eta \u001b[36m0:00:00\u001b[0m00:01\u001b[0m00:01\u001b[0m\n",
      "\u001b[?25hRequirement already satisfied: sympy in /opt/conda/lib/python3.10/site-packages (from torch) (1.11.1)\n",
      "Requirement already satisfied: networkx in /opt/conda/lib/python3.10/site-packages (from torch) (3.0)\n",
      "Collecting nvidia-cufft-cu11==10.9.0.58\n",
      "  Downloading nvidia_cufft_cu11-10.9.0.58-py3-none-manylinux1_x86_64.whl (168.4 MB)\n",
      "\u001b[2K     \u001b[90m━━━━━━━━━━━━━━━━━━━━━━━━━━━━━━━━━━━━━━\u001b[0m \u001b[32m168.4/168.4 MB\u001b[0m \u001b[31m13.3 MB/s\u001b[0m eta \u001b[36m0:00:00\u001b[0m00:01\u001b[0m00:01\u001b[0m\n",
      "\u001b[?25hRequirement already satisfied: wheel in /opt/conda/lib/python3.10/site-packages (from nvidia-cublas-cu11==11.10.3.66->torch) (0.38.4)\n",
      "Requirement already satisfied: setuptools in /opt/conda/lib/python3.10/site-packages (from nvidia-cublas-cu11==11.10.3.66->torch) (66.1.1)\n",
      "Collecting lit\n",
      "  Downloading lit-16.0.0.tar.gz (144 kB)\n",
      "\u001b[2K     \u001b[90m━━━━━━━━━━━━━━━━━━━━━━━━━━━━━━━━━━━━━━\u001b[0m \u001b[32m145.0/145.0 kB\u001b[0m \u001b[31m60.1 MB/s\u001b[0m eta \u001b[36m0:00:00\u001b[0m\n",
      "\u001b[?25h  Preparing metadata (setup.py) ... \u001b[?25ldone\n",
      "\u001b[?25hCollecting cmake\n",
      "  Downloading cmake-3.26.1-py2.py3-none-manylinux2014_x86_64.manylinux_2_17_x86_64.whl (24.0 MB)\n",
      "\u001b[2K     \u001b[90m━━━━━━━━━━━━━━━━━━━━━━━━━━━━━━━━━━━━━━━━\u001b[0m \u001b[32m24.0/24.0 MB\u001b[0m \u001b[31m38.0 MB/s\u001b[0m eta \u001b[36m0:00:00\u001b[0m00:01\u001b[0m00:01\u001b[0m\n",
      "\u001b[?25hRequirement already satisfied: MarkupSafe>=2.0 in /opt/conda/lib/python3.10/site-packages (from jinja2->torch) (2.1.2)\n",
      "Requirement already satisfied: mpmath>=0.19 in /opt/conda/lib/python3.10/site-packages (from sympy->torch) (1.2.1)\n",
      "Building wheels for collected packages: lit\n",
      "  Building wheel for lit (setup.py) ... \u001b[?25ldone\n",
      "\u001b[?25h  Created wheel for lit: filename=lit-16.0.0-py3-none-any.whl size=93582 sha256=15d65355fce865a5044ea40860a88d3180a605b55073143f44d97e91fa285cc4\n",
      "  Stored in directory: /home/jovyan/.cache/pip/wheels/e5/7f/66/8bfd6d52625bf85b29fa507f79fbc3f5cb4bb72eae40318074\n",
      "Successfully built lit\n",
      "Installing collected packages: lit, cmake, nvidia-nvtx-cu11, nvidia-nccl-cu11, nvidia-cusparse-cu11, nvidia-curand-cu11, nvidia-cufft-cu11, nvidia-cuda-runtime-cu11, nvidia-cuda-nvrtc-cu11, nvidia-cuda-cupti-cu11, nvidia-cublas-cu11, filelock, nvidia-cusolver-cu11, nvidia-cudnn-cu11, triton, torch\n",
      "Successfully installed cmake-3.26.1 filelock-3.10.7 lit-16.0.0 nvidia-cublas-cu11-11.10.3.66 nvidia-cuda-cupti-cu11-11.7.101 nvidia-cuda-nvrtc-cu11-11.7.99 nvidia-cuda-runtime-cu11-11.7.99 nvidia-cudnn-cu11-8.5.0.96 nvidia-cufft-cu11-10.9.0.58 nvidia-curand-cu11-10.2.10.91 nvidia-cusolver-cu11-11.4.0.1 nvidia-cusparse-cu11-11.7.4.91 nvidia-nccl-cu11-2.14.3 nvidia-nvtx-cu11-11.7.91 torch-2.0.0 triton-2.0.0\n",
      "Collecting transformers\n",
      "  Downloading transformers-4.27.4-py3-none-any.whl (6.8 MB)\n",
      "\u001b[2K     \u001b[90m━━━━━━━━━━━━━━━━━━━━━━━━━━━━━━━━━━━━━━━━\u001b[0m \u001b[32m6.8/6.8 MB\u001b[0m \u001b[31m16.9 MB/s\u001b[0m eta \u001b[36m0:00:00\u001b[0m00:01\u001b[0m00:01\u001b[0m\n",
      "\u001b[?25hCollecting tokenizers!=0.11.3,<0.14,>=0.11.1\n",
      "  Downloading tokenizers-0.13.2-cp310-cp310-manylinux_2_17_x86_64.manylinux2014_x86_64.whl (7.6 MB)\n",
      "\u001b[2K     \u001b[90m━━━━━━━━━━━━━━━━━━━━━━━━━━━━━━━━━━━━━━━━\u001b[0m \u001b[32m7.6/7.6 MB\u001b[0m \u001b[31m40.1 MB/s\u001b[0m eta \u001b[36m0:00:00\u001b[0m00:01\u001b[0m00:01\u001b[0mm\n",
      "\u001b[?25hRequirement already satisfied: packaging>=20.0 in /opt/conda/lib/python3.10/site-packages (from transformers) (23.0)\n",
      "Collecting huggingface-hub<1.0,>=0.11.0\n",
      "  Downloading huggingface_hub-0.13.3-py3-none-any.whl (199 kB)\n",
      "\u001b[2K     \u001b[90m━━━━━━━━━━━━━━━━━━━━━━━━━━━━━━━━━━━━━━\u001b[0m \u001b[32m199.8/199.8 kB\u001b[0m \u001b[31m67.3 MB/s\u001b[0m eta \u001b[36m0:00:00\u001b[0m\n",
      "\u001b[?25hRequirement already satisfied: tqdm>=4.27 in /opt/conda/lib/python3.10/site-packages (from transformers) (4.64.1)\n",
      "Collecting regex!=2019.12.17\n",
      "  Downloading regex-2023.3.23-cp310-cp310-manylinux_2_17_x86_64.manylinux2014_x86_64.whl (769 kB)\n",
      "\u001b[2K     \u001b[90m━━━━━━━━━━━━━━━━━━━━━━━━━━━━━━━━━━━━━━\u001b[0m \u001b[32m769.6/769.6 kB\u001b[0m \u001b[31m78.4 MB/s\u001b[0m eta \u001b[36m0:00:00\u001b[0m\n",
      "\u001b[?25hRequirement already satisfied: pyyaml>=5.1 in /opt/conda/lib/python3.10/site-packages (from transformers) (6.0)\n",
      "Requirement already satisfied: requests in /opt/conda/lib/python3.10/site-packages (from transformers) (2.28.2)\n",
      "Requirement already satisfied: numpy>=1.17 in /opt/conda/lib/python3.10/site-packages (from transformers) (1.23.5)\n",
      "Requirement already satisfied: filelock in /opt/conda/lib/python3.10/site-packages (from transformers) (3.10.7)\n",
      "Requirement already satisfied: typing-extensions>=3.7.4.3 in /opt/conda/lib/python3.10/site-packages (from huggingface-hub<1.0,>=0.11.0->transformers) (4.4.0)\n",
      "Requirement already satisfied: urllib3<1.27,>=1.21.1 in /opt/conda/lib/python3.10/site-packages (from requests->transformers) (1.26.14)\n",
      "Requirement already satisfied: certifi>=2017.4.17 in /opt/conda/lib/python3.10/site-packages (from requests->transformers) (2022.12.7)\n",
      "Requirement already satisfied: charset-normalizer<4,>=2 in /opt/conda/lib/python3.10/site-packages (from requests->transformers) (2.1.1)\n",
      "Requirement already satisfied: idna<4,>=2.5 in /opt/conda/lib/python3.10/site-packages (from requests->transformers) (3.4)\n",
      "Installing collected packages: tokenizers, regex, huggingface-hub, transformers\n",
      "Successfully installed huggingface-hub-0.13.3 regex-2023.3.23 tokenizers-0.13.2 transformers-4.27.4\n"
     ]
    }
   ],
   "source": [
    "!pip install torch\n",
    "!pip install transformers"
   ]
  },
  {
   "cell_type": "code",
   "execution_count": 3,
   "id": "4d6a5b4d-e61b-45e3-8c29-6b2afb701b9f",
   "metadata": {},
   "outputs": [
    {
     "name": "stdout",
     "output_type": "stream",
     "text": [
      "Sat Apr  1 18:45:55 2023       \n",
      "+-----------------------------------------------------------------------------+\n",
      "| NVIDIA-SMI 510.108.03   Driver Version: 510.108.03   CUDA Version: 11.6     |\n",
      "|-------------------------------+----------------------+----------------------+\n",
      "| GPU  Name        Persistence-M| Bus-Id        Disp.A | Volatile Uncorr. ECC |\n",
      "| Fan  Temp  Perf  Pwr:Usage/Cap|         Memory-Usage | GPU-Util  Compute M. |\n",
      "|                               |                      |               MIG M. |\n",
      "|===============================+======================+======================|\n",
      "|   0  NVIDIA GeForce ...  Off  | 00000000:1B:00.0 Off |                  Off |\n",
      "|  0%   40C    P8    26W / 460W |      8MiB / 24564MiB |      0%      Default |\n",
      "|                               |                      |                  N/A |\n",
      "+-------------------------------+----------------------+----------------------+\n",
      "|   1  NVIDIA GeForce ...  Off  | 00000000:1C:00.0 Off |                  N/A |\n",
      "| 27%   33C    P8    14W / 260W |   9065MiB / 11264MiB |      0%      Default |\n",
      "|                               |                      |                  N/A |\n",
      "+-------------------------------+----------------------+----------------------+\n",
      "|   2  NVIDIA GeForce ...  Off  | 00000000:1E:00.0 Off |                  N/A |\n",
      "| 27%   34C    P8    10W / 260W |      8MiB / 11264MiB |      0%      Default |\n",
      "|                               |                      |                  N/A |\n",
      "+-------------------------------+----------------------+----------------------+\n",
      "|   3  NVIDIA GeForce ...  Off  | 00000000:3F:00.0 Off |                  Off |\n",
      "|  0%   32C    P8    19W / 460W |      8MiB / 24564MiB |      0%      Default |\n",
      "|                               |                      |                  N/A |\n",
      "+-------------------------------+----------------------+----------------------+\n",
      "|   4  NVIDIA GeForce ...  Off  | 00000000:40:00.0 Off |                  Off |\n",
      "|  0%   36C    P8    28W / 460W |   8082MiB / 24564MiB |      0%      Default |\n",
      "|                               |                      |                  N/A |\n",
      "+-------------------------------+----------------------+----------------------+\n",
      "|   5  NVIDIA GeForce ...  Off  | 00000000:5E:00.0 Off |                  Off |\n",
      "|  0%   35C    P8    25W / 460W |      8MiB / 24564MiB |      0%      Default |\n",
      "|                               |                      |                  N/A |\n",
      "+-------------------------------+----------------------+----------------------+\n",
      "                                                                               \n",
      "+-----------------------------------------------------------------------------+\n",
      "| Processes:                                                                  |\n",
      "|  GPU   GI   CI        PID   Type   Process name                  GPU Memory |\n",
      "|        ID   ID                                                   Usage      |\n",
      "|=============================================================================|\n",
      "+-----------------------------------------------------------------------------+\n"
     ]
    }
   ],
   "source": [
    "!nvidia-smi "
   ]
  },
  {
   "cell_type": "code",
   "execution_count": 4,
   "id": "ac429fe1-f25e-4494-a189-c58441376e76",
   "metadata": {},
   "outputs": [
    {
     "data": {
      "text/plain": [
       "'os.environ[\"CUDA_VISIBLE_DEVICES\"]=\"0\"'"
      ]
     },
     "execution_count": 4,
     "metadata": {},
     "output_type": "execute_result"
    }
   ],
   "source": [
    "from get_cuda_device import get_cuda_command\n",
    "\n",
    "get_cuda_command('cuda:0')"
   ]
  },
  {
   "cell_type": "code",
   "execution_count": 5,
   "id": "078519bc-f829-4c77-b997-aa40a18ca001",
   "metadata": {},
   "outputs": [],
   "source": [
    "import os\n",
    "os.environ[\"CUDA_VISIBLE_DEVICES\"]=\"0\""
   ]
  },
  {
   "cell_type": "code",
   "execution_count": 6,
   "id": "ae475c22-83e6-4e7c-84ce-67c0f8204deb",
   "metadata": {},
   "outputs": [
    {
     "name": "stdout",
     "output_type": "stream",
     "text": [
      "GPU\n"
     ]
    }
   ],
   "source": [
    "import torch \n",
    "\n",
    "if torch.cuda.is_available():\n",
    "    device='cuda'\n",
    "    print('GPU')\n",
    "else:\n",
    "    device='cpu'\n",
    "    print('CPU')\n",
    "    \n",
    "    \n",
    "SEED = 0\n",
    "torch.manual_seed(SEED)\n",
    "torch.cuda.manual_seed(SEED)"
   ]
  },
  {
   "cell_type": "markdown",
   "id": "d9855e4b-8b18-45a3-859e-8ca43e74a7b7",
   "metadata": {},
   "source": [
    "# Batch predict"
   ]
  },
  {
   "cell_type": "markdown",
   "id": "62440c44-12ee-4bbb-8a91-b9cc52cf5a52",
   "metadata": {
    "tags": []
   },
   "source": [
    "# Generation\n",
    "Each framework has a generate method for text generation implemented in their respective GenerationMixin class:\n",
    "\n",
    "PyTorch generate() is implemented in GenerationMixin.\n",
    "https://huggingface.co/docs/transformers/main/en/main_classes/text_generation"
   ]
  },
  {
   "cell_type": "markdown",
   "id": "fc244cf4-4976-4816-a2f2-fa5358ab015b",
   "metadata": {
    "tags": []
   },
   "source": [
    "## Parameters that control the length of the output\n",
    "\n",
    "**max_length (int, optional, defaults to 20)** — The maximum length the generated tokens can have. Corresponds to the length of the input prompt + max_new_tokens. Its effect is overridden by max_new_tokens, if also set.\n",
    "\n",
    "**max_new_tokens (int, optional)** — The maximum numbers of tokens to generate, ignoring the number of tokens in the prompt.\n",
    "\n",
    "**min_length (int, optional, defaults to 0)** — The minimum length of the sequence to be generated. Corresponds to the length of the input prompt + min_new_tokens. Its effect is overridden by min_new_tokens, if also set.\n",
    "\n",
    "**min_new_tokens (int, optional)** — The minimum numbers of tokens to generate, ignoring the number of tokens in the prompt.\n",
    "\n",
    "**early_stopping (bool or str, optional, defaults to False)** — Controls the stopping condition for beam-based methods, like beam-search. It accepts the following values: True, where the generation stops as soon as there are num_beams complete candidates; False, where an heuristic is applied and the generation stops when is it very unlikely to find better candidates; \"never\", where the beam search procedure only stops when there cannot be better candidates (canonical beam search algorithm).\n",
    "\n",
    "**max_time(float, optional)** — The maximum amount of time you allow the computation to run for in seconds. generation will still finish the current pass after allocated time has been passed."
   ]
  },
  {
   "cell_type": "markdown",
   "id": "04f97993-d95f-4f5f-91cc-dac0fd95ddf1",
   "metadata": {},
   "source": [
    "## Parameters that control the generation strategy used\n",
    "\n",
    "**do_sample (bool, optional, defaults to False)** — Whether or not to use sampling ; use greedy decoding otherwise.\n",
    "\n",
    "\n",
    "**num_beams (int, optional, defaults to 1)** — Number of beams for beam search. 1 means no beam search.\n",
    "\n",
    "**num_beam_groups (int, optional, defaults to 1)** — Number of groups to divide num_beams into in order to ensure diversity among different groups of beams.\n",
    "\n",
    "**penalty_alpha (float, optional)** — The values balance the model confidence and the degeneration penalty in contrastive search decoding.\n",
    "\n",
    "\n",
    "**use_cache (bool, optional, defaults to True)** — Whether or not the model should use the past last key/values attentions (if applicable to the model) to speed up decoding."
   ]
  },
  {
   "cell_type": "markdown",
   "id": "a77957d7-39a0-488e-ae93-bc3df70168d5",
   "metadata": {},
   "source": [
    "## Parameters for manipulation of the model output logits\n",
    "\n",
    "**temperature (float, optional, defaults to 1.0)** — The value used to modulate the next token probabilities.\n",
    "\n",
    "**top_k (int, optional, defaults to 50)** — The number of highest probability vocabulary tokens to keep for top-k-filtering.\n",
    "\n",
    "**top_p (float, optional, defaults to 1.0)** — If set to float < 1, only the smallest set of most probable tokens with probabilities that add up to top_p or higher are kept for generation.\n",
    "\n",
    "**typical_p (float, optional, defaults to 1.0)** — Local typicality measures how similar the conditional probability of predicting a target token next is to the expected conditional probability of predicting a random token next, given the partial text already generated. If set to float < 1, the smallest set of the most locally typical tokens with probabilities that add up to typical_p or higher are kept for generation.\n",
    "\n",
    "\n",
    "**epsilon_cutoff (float, optional, defaults to 0.0)** — If set to float strictly between 0 and 1, only tokens with a conditional probability greater than epsilon_cutoff will be sampled. In the paper, suggested values range from 3e-4 to 9e-4, depending on the size of the model. \n",
    "\n",
    "\n",
    "**eta_cutoff (float, optional, defaults to 0.0)** — Eta sampling is a hybrid of locally typical sampling and epsilon sampling. If set to float strictly between 0 and 1, a token is only considered if it is greater than either eta_cutoff or sqrt(eta_cutoff) * exp(-entropy(softmax(next_token_logits))). The latter term is intuitively the expected next token probability, scaled by sqrt(eta_cutoff). In the paper, suggested values range from 3e-4 to 2e-3, depending on the size of the model. \n",
    "\n",
    "**diversity_penalty (float, optional, defaults to 0.0)** — This value is subtracted from a beam’s score if it generates a token same as any beam from other group at a particular time. Note that diversity_penalty is only effective if group beam search is enabled.\n",
    "\n",
    "\n",
    "**repetition_penalty (float, optional, defaults to 1.0)** — The parameter for repetition penalty. 1.0 means no penalty.\n",
    "\n",
    "\n",
    "**encoder_repetition_penalty (float, optional, defaults to 1.0)** — The paramater for encoder_repetition_penalty. An exponential penalty on sequences that are not in the original input. 1.0 means no penalty.\n",
    "\n",
    "\n",
    "**length_penalty (float, optional, defaults to 1.0)** — Exponential penalty to the length that is used with beam-based generation. It is applied as an exponent to the sequence length, which in turn is used to divide the score of the sequence. Since the score is the log likelihood of the sequence (i.e. negative), length_penalty > 0.0 promotes longer sequences, while length_penalty < 0.0 encourages shorter sequences.\n",
    "\n",
    "**no_repeat_ngram_size (int, optional, defaults to 0)** — If set to int > 0, all ngrams of that size can only occur once.\n",
    "\n",
    "**bad_words_ids(List[List[int]], optional)** — List of token ids that are not allowed to be generated. In order to get the token ids of the words that should not appear in the generated text, use tokenizer(bad_words, add_prefix_space=True, add_special_tokens=False).input_ids.\n",
    "\n",
    "**force_words_ids(List[List[int]] or List[List[List[int]]], optional)** — List of token ids that must be generated. If given a List[List[int]], this is treated as a simple list of words that must be included, the opposite to bad_words_ids. If given List[List[List[int]]], this triggers a disjunctive constraint, where one can allow different forms of each word.\n",
    "\n",
    "**! renormalize_logits (bool, optional, defaults to False)** — Whether to renormalize the logits after applying all the logits processors or warpers (including the custom ones). It’s highly recommended to set this flag to True as the search algorithms suppose the score logits are normalized but some logit processors or warpers break the normalization.\n",
    "\n",
    "**constraints (List[Constraint], optional)** — Custom constraints that can be added to the generation to ensure that the output will contain the use of certain tokens as defined by Constraint objects, in the most sensible way possible.\n",
    "\n",
    "**forced_bos_token_id (int, optional, defaults to model.config.forced_bos_token_id)** — The id of the token to force as the first generated token after the decoder_start_token_id. Useful for multilingual models like mBART where the first generated token needs to be the target language token.\n",
    "\n",
    "**forced_eos_token_id (Union[int, List[int]], optional, defaults to model.config.forced_eos_token_id)** — The id of the token to force as the last generated token when max_length is reached. Optionally, use a list to set multiple end-of-sequence tokens.\n",
    "\n",
    "**remove_invalid_values (bool, optional, defaults to model.config.remove_invalid_values)** — Whether to remove possible nan and inf outputs of the model to prevent the generation method to crash. Note that using remove_invalid_values can slow down generation.\n",
    "\n",
    "**exponential_decay_length_penalty (tuple(int, float), optional)** — This Tuple adds an exponentially increasing length penalty, after a certain amount of tokens have been generated. The tuple shall consist of: (start_index, decay_factor) where start_index indicates where penalty starts and decay_factor represents the factor of exponential decay\n",
    "\n",
    "**suppress_tokens (List[int], optional)** — A list of tokens that will be suppressed at generation. The SupressTokens logit processor will set their log probs to -inf so that they are not sampled.\n",
    "\n",
    "**begin_suppress_tokens (List[int], optional)** — A list of tokens that will be suppressed at the beginning of the generation. The SupressBeginTokens logit processor will set their log probs to -inf so that they are not sampled.\n",
    "\n",
    "**forced_decoder_ids (List[List[int]], optional)** — A list of pairs of integers which indicates a mapping from generation indices to token indices that will be forced before sampling. For example, [[1, 123]] means the second generated token will always be a token of index 123."
   ]
  },
  {
   "cell_type": "markdown",
   "id": "0651031c-e2f5-444f-8c0b-efdd9e9af7b4",
   "metadata": {},
   "source": [
    "## Parameters that define the output variables of `generate`\n",
    "\n",
    "**num_return_sequences(int, optional, defaults to 1)** — The number of independently computed returned sequences for each element in the batch.\n",
    "\n",
    "**output_attentions (bool, optional, defaults to False)** — Whether or not to return the attentions tensors of all attention layers. \n",
    "\n",
    "**output_hidden_states (bool, optional, defaults to False)** — Whether or not to return the hidden states of all layers. \n",
    "\n",
    "**output_scores (bool, optional, defaults to False)** — Whether or not to return the prediction scores.\n",
    "\n",
    "**return_dict_in_generate (bool, optional, defaults to False)** — Whether or not to return a ModelOutput instead of a plain tuple."
   ]
  },
  {
   "cell_type": "markdown",
   "id": "9d4b055c-4927-4f54-9180-062a318e6da6",
   "metadata": {},
   "source": [
    "## Special tokens that can be used at generation time\n",
    "\n",
    "**pad_token_id (int, optional)** — The id of the padding token.\n",
    "\n",
    "**bos_token_id (int, optional)** — The id of the beginning-of-sequence token.\n",
    "\n",
    "**eos_token_id (Union[int, List[int]], optional)** — The id of the end-of-sequence token. Optionally, use a list to set multiple end-of-sequence tokens."
   ]
  },
  {
   "cell_type": "markdown",
   "id": "cf27bf5d-7b00-472e-a9fe-e7f177bb29a0",
   "metadata": {},
   "source": [
    "## Generation parameters exclusive to encoder-decoder models\n",
    "\n",
    "**encoder_no_repeat_ngram_size (int, optional, defaults to 0)** — If set to int > 0, all ngrams of that size that occur in the encoder_input_ids cannot occur in the decoder_input_ids.\n",
    "\n",
    "**decoder_start_token_id (int, optional)** — If an encoder-decoder model starts decoding with a different token than bos, the id of that token."
   ]
  },
  {
   "cell_type": "code",
   "execution_count": 7,
   "id": "8c6b35a9-023c-4ff8-8739-bc978c1a4be0",
   "metadata": {
    "tags": []
   },
   "outputs": [],
   "source": [
    "import numpy as np\n",
    "import torch\n",
    "\n",
    "from transformers import T5ForConditionalGeneration, AutoTokenizer\n",
    "from transformers import AutoModelForSeq2SeqLM, AutoTokenizer, AutoConfig\n",
    "\n",
    "\n",
    "from torch.utils.data import Dataset, DataLoader\n",
    "from transformers import Trainer, TrainingArguments\n",
    "from transformers.file_utils import cached_property\n",
    "from typing import Tuple\n",
    "from sklearn.model_selection import train_test_split\n",
    "import gc\n",
    "from tqdm.auto import tqdm, trange\n",
    "\n",
    "\n",
    "import pandas as pd\n",
    "from sklearn.utils import shuffle\n",
    "\n",
    "from collections import Counter\n",
    "from tqdm import tqdm\n",
    "import re\n",
    "import matplotlib.pyplot as plt"
   ]
  },
  {
   "cell_type": "markdown",
   "id": "b9a913f3-d530-4177-b1a6-97a87397db80",
   "metadata": {},
   "source": [
    "# model"
   ]
  },
  {
   "cell_type": "code",
   "execution_count": 8,
   "id": "9a898dda-42b4-4bff-b915-5095bb04cc4f",
   "metadata": {
    "tags": []
   },
   "outputs": [
    {
     "data": {
      "application/vnd.jupyter.widget-view+json": {
       "model_id": "010bf65d17e0475e9a784112186c1b38",
       "version_major": 2,
       "version_minor": 0
      },
      "text/plain": [
       "Downloading (…)lve/main/config.json:   0%|          | 0.00/1.21k [00:00<?, ?B/s]"
      ]
     },
     "metadata": {},
     "output_type": "display_data"
    },
    {
     "data": {
      "application/vnd.jupyter.widget-view+json": {
       "model_id": "1beea79c17c340c2bd91962ff64ed781",
       "version_major": 2,
       "version_minor": 0
      },
      "text/plain": [
       "Downloading pytorch_model.bin:   0%|          | 0.00/2.95G [00:00<?, ?B/s]"
      ]
     },
     "metadata": {},
     "output_type": "display_data"
    },
    {
     "data": {
      "application/vnd.jupyter.widget-view+json": {
       "model_id": "de39bd77961c49fa89c5d14bdbed81ae",
       "version_major": 2,
       "version_minor": 0
      },
      "text/plain": [
       "Downloading (…)neration_config.json:   0%|          | 0.00/147 [00:00<?, ?B/s]"
      ]
     },
     "metadata": {},
     "output_type": "display_data"
    },
    {
     "data": {
      "application/vnd.jupyter.widget-view+json": {
       "model_id": "e274a40329234b3c80aa1bebf8b0290a",
       "version_major": 2,
       "version_minor": 0
      },
      "text/plain": [
       "Downloading (…)ve/main/spiece.model:   0%|          | 0.00/792k [00:00<?, ?B/s]"
      ]
     },
     "metadata": {},
     "output_type": "display_data"
    },
    {
     "data": {
      "application/vnd.jupyter.widget-view+json": {
       "model_id": "2208dd15d76c406a883f25412efc50b4",
       "version_major": 2,
       "version_minor": 0
      },
      "text/plain": [
       "Downloading (…)/main/tokenizer.json:   0%|          | 0.00/1.39M [00:00<?, ?B/s]"
      ]
     },
     "metadata": {},
     "output_type": "display_data"
    },
    {
     "name": "stderr",
     "output_type": "stream",
     "text": [
      "/opt/conda/lib/python3.10/site-packages/transformers/models/t5/tokenization_t5_fast.py:155: FutureWarning: This tokenizer was incorrectly instantiated with a model max length of 512 which will be corrected in Transformers v5.\n",
      "For now, this behavior is kept to avoid breaking backwards compatibility when padding/encoding with `truncation is True`.\n",
      "- Be aware that you SHOULD NOT rely on t5-large automatically truncating your input to 512 when padding/encoding.\n",
      "- If you want to encode/pad to sequences longer than 512 you can either instantiate this tokenizer with `model_max_length` or pass `max_length` when encoding/padding.\n",
      "- To avoid this warning, please instantiate this tokenizer with `model_max_length` set to your preferred value.\n",
      "  warnings.warn(\n"
     ]
    }
   ],
   "source": [
    "from transformers import TrainingArguments, Trainer\n",
    "\n",
    "model_checkpoint = \"t5-large\"\n",
    "model = T5ForConditionalGeneration.from_pretrained(model_checkpoint).to(device)\n",
    "tokenizer = AutoTokenizer.from_pretrained(model_checkpoint)"
   ]
  },
  {
   "cell_type": "code",
   "execution_count": 9,
   "id": "b7ff9176-5ba7-418b-bde0-04b7ba167002",
   "metadata": {
    "tags": []
   },
   "outputs": [],
   "source": [
    "class PairsDataset(torch.utils.data.Dataset):\n",
    "    def __init__(self, x, y):\n",
    "        self.x = x\n",
    "        self.y = y\n",
    "\n",
    "    def __getitem__(self, idx):\n",
    "        assert idx <= len(self.x['input_ids']), (idx, len(self.x['input_ids']))\n",
    "        item = {key: val[idx] for key, val in self.x.items()}\n",
    "        item['decoder_attention_mask'] = self.y['attention_mask'][idx]\n",
    "        item['labels'] = self.y['input_ids'][idx]\n",
    "        return item\n",
    "    \n",
    "    @property\n",
    "    def n(self):\n",
    "        return len(self.x['input_ids'])\n",
    "\n",
    "    def __len__(self):\n",
    "        return self.n"
   ]
  },
  {
   "cell_type": "code",
   "execution_count": 10,
   "id": "87b3137b-4300-4c74-9822-6aaefce55e37",
   "metadata": {
    "tags": []
   },
   "outputs": [],
   "source": [
    "from typing import List, Dict, Union\n",
    "\n",
    "class DataCollatorWithPadding:\n",
    "    def __init__(self, tokenizer):\n",
    "        self.tokenizer = tokenizer\n",
    "\n",
    "    def __call__(self, features: List[Dict[str, Union[List[int], torch.Tensor]]]) -> Dict[str, torch.Tensor]:\n",
    "        batch = self.tokenizer.pad(\n",
    "            features,\n",
    "            padding=True,\n",
    "        )\n",
    "        ybatch = self.tokenizer.pad(\n",
    "            {'input_ids': batch['labels'], 'attention_mask': batch['decoder_attention_mask']},\n",
    "            padding=True,\n",
    "        ) \n",
    "        batch['labels'] = ybatch['input_ids']\n",
    "        batch['decoder_attention_mask'] = ybatch['attention_mask']\n",
    "        \n",
    "        return {k: torch.tensor(v) for k, v in batch.items()}"
   ]
  },
  {
   "cell_type": "code",
   "execution_count": 11,
   "id": "7ef1229c-d458-413c-acc9-2fb0221248b9",
   "metadata": {
    "tags": []
   },
   "outputs": [],
   "source": [
    "def cleanup():\n",
    "    gc.collect()\n",
    "    torch.cuda.empty_cache()\n",
    "    \n",
    "cleanup()"
   ]
  },
  {
   "cell_type": "markdown",
   "id": "e6c063e4-fa59-487c-96a0-d9a8cf7f35f5",
   "metadata": {},
   "source": [
    "# **Read data SemEval2018-Task9**"
   ]
  },
  {
   "cell_type": "code",
   "execution_count": 12,
   "id": "c2344944-6187-49b1-bcb9-0f1b98c505ce",
   "metadata": {
    "tags": []
   },
   "outputs": [
    {
     "data": {
      "text/html": [
       "<div>\n",
       "<style scoped>\n",
       "    .dataframe tbody tr th:only-of-type {\n",
       "        vertical-align: middle;\n",
       "    }\n",
       "\n",
       "    .dataframe tbody tr th {\n",
       "        vertical-align: top;\n",
       "    }\n",
       "\n",
       "    .dataframe thead th {\n",
       "        text-align: right;\n",
       "    }\n",
       "</style>\n",
       "<table border=\"1\" class=\"dataframe\">\n",
       "  <thead>\n",
       "    <tr style=\"text-align: right;\">\n",
       "      <th></th>\n",
       "      <th>term</th>\n",
       "      <th>relation</th>\n",
       "    </tr>\n",
       "  </thead>\n",
       "  <tbody>\n",
       "    <tr>\n",
       "      <th>0</th>\n",
       "      <td>blackfly</td>\n",
       "      <td>Concept</td>\n",
       "    </tr>\n",
       "    <tr>\n",
       "      <th>1</th>\n",
       "      <td>Turonian</td>\n",
       "      <td>Entity</td>\n",
       "    </tr>\n",
       "    <tr>\n",
       "      <th>2</th>\n",
       "      <td>abhorrence</td>\n",
       "      <td>Concept</td>\n",
       "    </tr>\n",
       "    <tr>\n",
       "      <th>3</th>\n",
       "      <td>tropical storm</td>\n",
       "      <td>Concept</td>\n",
       "    </tr>\n",
       "    <tr>\n",
       "      <th>4</th>\n",
       "      <td>militarization</td>\n",
       "      <td>Concept</td>\n",
       "    </tr>\n",
       "  </tbody>\n",
       "</table>\n",
       "</div>"
      ],
      "text/plain": [
       "             term relation\n",
       "0        blackfly  Concept\n",
       "1        Turonian   Entity\n",
       "2      abhorrence  Concept\n",
       "3  tropical storm  Concept\n",
       "4  militarization  Concept"
      ]
     },
     "execution_count": 12,
     "metadata": {},
     "output_type": "execute_result"
    }
   ],
   "source": [
    "path = os.getcwd().replace('t5_params', '')\n",
    "\n",
    "path_data_en = path+\"SemEval2018-Task9/training/data/1A.english.training.data.txt\"\n",
    "path_gold_en = path+\"SemEval2018-Task9/training/gold/1A.english.training.gold.txt\"\n",
    "\n",
    "\n",
    "\n",
    "train_data_en_data = pd.read_csv(path_data_en, header=None, sep=\"\\t\", names=['term', 'relation'])\n",
    "train_gold_en_data = pd.read_csv(path_gold_en, header=None, names=['hypernym'])\n",
    "\n",
    "train_data_en_data.head()"
   ]
  },
  {
   "cell_type": "code",
   "execution_count": 13,
   "id": "129edda7-bf42-43e4-9fd0-7e55aa8bc714",
   "metadata": {
    "tags": []
   },
   "outputs": [],
   "source": [
    "path_test_data_en = path+\"SemEval2018-Task9/test/data/1A.english.test.data.txt\"\n",
    "path_test_gold_en = path+\"SemEval2018-Task9/test/gold/1A.english.test.gold.txt\"\n",
    "\n",
    "\n",
    "test_data_en_data = pd.read_csv(path_test_data_en, header=None, sep=\"\\t\", names=['term', 'relation'])\n",
    "test_gold_en_data = pd.read_csv(path_test_gold_en, header=None, names=['hypernym'])"
   ]
  },
  {
   "cell_type": "code",
   "execution_count": 14,
   "id": "c626a99f-dcc7-44d3-b1cc-1150671d9133",
   "metadata": {
    "tags": []
   },
   "outputs": [],
   "source": [
    "def standard_preprcessing(train_features, train_target, test_features, test_target):\n",
    "    \n",
    "    train_data_en = train_features.copy()\n",
    "    train_data_en = 'hyponym: ' + train_data_en.term + ' | hypernyms:'\n",
    "    print(train_data_en.head())\n",
    "\n",
    "    train_gold_en = train_target.copy()\n",
    "    train_gold_en = train_gold_en.hypernym.str.split('\\t').str.join(', ')\n",
    "    print(train_gold_en.head())\n",
    "    \n",
    "    test_data_en = test_features.copy()\n",
    "    test_data_en = 'hyponym: ' + test_data_en.term + ' | hypernyms:'\n",
    "    print(test_data_en.head())\n",
    "\n",
    "    test_gold_en = test_target.copy()\n",
    "    test_gold_en = test_gold_en.hypernym.str.split('\\t').str.join(', ')\n",
    "    print(test_gold_en.head())\n",
    "    \n",
    "    return train_data_en, train_gold_en, test_data_en, test_gold_en\n"
   ]
  },
  {
   "cell_type": "code",
   "execution_count": 15,
   "id": "104ea460-4fcd-44c6-85f6-44af748bc722",
   "metadata": {
    "tags": []
   },
   "outputs": [
    {
     "name": "stdout",
     "output_type": "stream",
     "text": [
      "0          hyponym: blackfly | hypernyms:\n",
      "1          hyponym: Turonian | hypernyms:\n",
      "2        hyponym: abhorrence | hypernyms:\n",
      "3    hyponym: tropical storm | hypernyms:\n",
      "4    hyponym: militarization | hypernyms:\n",
      "Name: term, dtype: object\n",
      "0                           homopterous insect, insect\n",
      "1    technical specification, geologic timescale, p...\n",
      "2                      distaste, hatred, hate, disgust\n",
      "3    atmosphere, windstorm, violent storm, air curr...\n",
      "4                                       social control\n",
      "Name: hypernym, dtype: object\n",
      "0    hyponym: maliciousness | hypernyms:\n",
      "1          hyponym: buckler | hypernyms:\n",
      "2        hyponym: spelunker | hypernyms:\n",
      "3     hyponym: quo warranto | hypernyms:\n",
      "4     hyponym: Jeff Francis | hypernyms:\n",
      "Name: term, dtype: object\n",
      "0       malevolence, distaste, hatred, hate, malignity\n",
      "1                                           body armor\n",
      "2                    exploration, adventurer, explorer\n",
      "3    proceedings, legal proceedings, proceeding, du...\n",
      "4               thrower, baseball player, jock, person\n",
      "Name: hypernym, dtype: object\n"
     ]
    }
   ],
   "source": [
    "train_data_en, train_gold_en, test_data_en, test_gold_en = standard_preprcessing(train_data_en_data, \n",
    "                                                                                 train_gold_en_data, \n",
    "                                                                                 test_data_en_data, \n",
    "                                                                                 test_gold_en_data)"
   ]
  },
  {
   "cell_type": "code",
   "execution_count": 16,
   "id": "c1c16177-34ba-44e2-91c6-94bcb23511a2",
   "metadata": {},
   "outputs": [],
   "source": [
    "# params = {\n",
    "#     'no_repeat_ngram_size': 2, \n",
    "#     'max_new_tokens': 100,\n",
    "#     'num_return_sequences': 20, \n",
    "#     'num_beams': 20, \n",
    "#     'early_stopping': True,\n",
    "#     'num_beam_groups': 5,\n",
    "#     'diversity_penalty': 1.0,\n",
    "#     'top_k':20,\n",
    "#     'repetition_penalty':0.5\n",
    "# }"
   ]
  },
  {
   "cell_type": "code",
   "execution_count": 17,
   "id": "d425797e-a08f-4a96-80a9-c7d65190ff59",
   "metadata": {},
   "outputs": [],
   "source": [
    "def predict_hyponyms(X, params):\n",
    "\n",
    "    input_ids = tokenizer.encode(X, return_tensors='pt') # encode\n",
    "\n",
    "    output_logit = model.generate(input_ids.cuda(), **params) # generation\n",
    "\n",
    "    decoding = []\n",
    "    for logit in output_logit:\n",
    "        decoded_logit = tokenizer.decode(logit, skip_special_tokens=True).split(' ') #decode one logit\n",
    "        decoding.extend(decoded_logit)\n",
    "        \n",
    "    # remove punctuation and hyperonyms/hyponyms\n",
    "    regexp = re.compile('[A-Za-z]+')\n",
    "    decoding = [regexp.findall(token)[0] for token in decoding if len(regexp.findall(token)) > 0] \n",
    "    \n",
    "    # remove hyperonym and hyponym\n",
    "    docoded_results = set([token for token in decoding if token[:4].lower() not in ['hypo', 'hype']])\n",
    "\n",
    "    return list(docoded_results)"
   ]
  },
  {
   "cell_type": "code",
   "execution_count": 18,
   "id": "75a8ffb1-eb44-4435-bfde-8144afb76ca2",
   "metadata": {},
   "outputs": [],
   "source": [
    "def predict(test_data_en, test_gold_en, params):\n",
    "    \n",
    "#   make predictions for each hyponyms\n",
    "    test_pred_en=[]\n",
    "    for text in tqdm(test_data_en.tolist()):\n",
    "        pred_masked_token = predict_hyponyms(text, params)\n",
    "        test_pred_en.append('\\t'.join(pred_masked_token))\n",
    "            \n",
    "#   make txt format\n",
    "    name  = 'prediciton.txt'\n",
    "\n",
    "    test_pred_en_df = pd.DataFrame(test_pred_en)\n",
    "    test_pred_en_df.to_csv(name, header=None, index=None)"
   ]
  },
  {
   "cell_type": "code",
   "execution_count": 19,
   "id": "ab1e1f2a-370d-4bc7-9968-4a9166fd05f8",
   "metadata": {},
   "outputs": [],
   "source": [
    "from std_answers2table import answers\n",
    "from contextlib import redirect_stdout\n",
    "import io\n",
    "from tqdm import tqdm\n",
    "from IPython.display import clear_output"
   ]
  },
  {
   "cell_type": "code",
   "execution_count": 20,
   "id": "75eb82f4-e35e-4fa9-9a48-93f1c02fad0a",
   "metadata": {},
   "outputs": [],
   "source": [
    "def plot(param):\n",
    "    table = pd.read_csv(param+'_params_result_table.csv').set_index(param)\n",
    "    plt.figure(figsize=(7, 5))\n",
    "    for metric in table.columns:\n",
    "        plt.plot(table.index, table[metric], label=metric)\n",
    "\n",
    "    plt.legend()   \n",
    "    plt.title(param)\n",
    "    plt.xlabel(param)\n",
    "    plt.grid(True)\n",
    "\n",
    "    plt.show()"
   ]
  },
  {
   "cell_type": "code",
   "execution_count": 21,
   "id": "b5e85056-9eb7-4788-a415-9d5f4231c28c",
   "metadata": {
    "tags": []
   },
   "outputs": [],
   "source": [
    "def params_predict(param_values: list, name_stretegy):\n",
    "\n",
    "    main_table = []\n",
    "\n",
    "\n",
    "    for values in tqdm(param_values):\n",
    "\n",
    "      # Predict\n",
    "        predict(test_data_en, test_gold_en, values)\n",
    "\n",
    "    #   Metrics\n",
    "\n",
    "        f = io.StringIO()\n",
    "        with redirect_stdout(f):\n",
    "            !python scorer.py /home/jovyan/work/SemEval2018-Task9/test/gold/1A.english.test.gold.txt prediciton.txt\n",
    "\n",
    "\n",
    "        _std_out = f.getvalue()\n",
    "        _std_out = _std_out  + str(name_stretegy)\n",
    "        \n",
    "        _table = answers(_std_out, str(values[name_stretegy]), name_stretegy)\n",
    "        main_table.append(_table)\n",
    "\n",
    "\n",
    "        df = pd.concat(main_table)\n",
    "        df.to_csv(name_stretegy + '_params_result_table.csv')\n",
    "        clear_output()"
   ]
  },
  {
   "cell_type": "markdown",
   "id": "244e175e-6772-4aa6-b910-8fd55533cfca",
   "metadata": {
    "tags": []
   },
   "source": [
    "## max_length"
   ]
  },
  {
   "cell_type": "code",
   "execution_count": 22,
   "id": "28ca8fa2-503e-486f-9408-8c5f20e67c44",
   "metadata": {},
   "outputs": [
    {
     "data": {
      "text/plain": [
       "[{'max_length': 3, 'num_beams': 5, 'early_stopping': True},\n",
       " {'max_length': 4, 'num_beams': 5, 'early_stopping': True},\n",
       " {'max_length': 6, 'num_beams': 5, 'early_stopping': True},\n",
       " {'max_length': 8, 'num_beams': 5, 'early_stopping': True},\n",
       " {'max_length': 10, 'num_beams': 5, 'early_stopping': True},\n",
       " {'max_length': 12, 'num_beams': 5, 'early_stopping': True},\n",
       " {'max_length': 14, 'num_beams': 5, 'early_stopping': True},\n",
       " {'max_length': 16, 'num_beams': 5, 'early_stopping': True},\n",
       " {'max_length': 18, 'num_beams': 5, 'early_stopping': True},\n",
       " {'max_length': 20, 'num_beams': 5, 'early_stopping': True}]"
      ]
     },
     "execution_count": 22,
     "metadata": {},
     "output_type": "execute_result"
    }
   ],
   "source": [
    "param_values = [{'max_length':int(i), 'num_beams': 5, 'early_stopping':True} for i in np.linspace(3, 20, 10)]\n",
    "param_values"
   ]
  },
  {
   "cell_type": "code",
   "execution_count": 23,
   "id": "368f7cb7-2cce-4da0-b8fd-d1dd1217ff43",
   "metadata": {
    "tags": []
   },
   "outputs": [
    {
     "name": "stderr",
     "output_type": "stream",
     "text": [
      "100%|████████████████████████████████████████████████████████████████████████████████| 10/10 [1:00:08<00:00, 360.89s/it]"
     ]
    },
    {
     "name": "stdout",
     "output_type": "stream",
     "text": [
      "CPU times: user 1h 2s, sys: 8.48 s, total: 1h 11s\n",
      "Wall time: 1h 8s\n"
     ]
    },
    {
     "name": "stderr",
     "output_type": "stream",
     "text": [
      "\n"
     ]
    },
    {
     "data": {
      "text/html": [
       "<div>\n",
       "<style scoped>\n",
       "    .dataframe tbody tr th:only-of-type {\n",
       "        vertical-align: middle;\n",
       "    }\n",
       "\n",
       "    .dataframe tbody tr th {\n",
       "        vertical-align: top;\n",
       "    }\n",
       "\n",
       "    .dataframe thead th {\n",
       "        text-align: right;\n",
       "    }\n",
       "</style>\n",
       "<table border=\"1\" class=\"dataframe\">\n",
       "  <thead>\n",
       "    <tr style=\"text-align: right;\">\n",
       "      <th></th>\n",
       "      <th>max_length</th>\n",
       "      <th>MRR</th>\n",
       "      <th>MAP</th>\n",
       "      <th>P@1</th>\n",
       "      <th>P@3</th>\n",
       "      <th>P@5</th>\n",
       "      <th>P@15</th>\n",
       "    </tr>\n",
       "  </thead>\n",
       "  <tbody>\n",
       "    <tr>\n",
       "      <th>0</th>\n",
       "      <td>3</td>\n",
       "      <td>0.01667</td>\n",
       "      <td>0.00816</td>\n",
       "      <td>0.01067</td>\n",
       "      <td>0.00933</td>\n",
       "      <td>0.00781</td>\n",
       "      <td>0.00737</td>\n",
       "    </tr>\n",
       "    <tr>\n",
       "      <th>1</th>\n",
       "      <td>4</td>\n",
       "      <td>0.02156</td>\n",
       "      <td>0.01001</td>\n",
       "      <td>0.01533</td>\n",
       "      <td>0.01133</td>\n",
       "      <td>0.00940</td>\n",
       "      <td>0.00892</td>\n",
       "    </tr>\n",
       "    <tr>\n",
       "      <th>2</th>\n",
       "      <td>6</td>\n",
       "      <td>0.02678</td>\n",
       "      <td>0.01308</td>\n",
       "      <td>0.01667</td>\n",
       "      <td>0.01522</td>\n",
       "      <td>0.01256</td>\n",
       "      <td>0.01188</td>\n",
       "    </tr>\n",
       "    <tr>\n",
       "      <th>3</th>\n",
       "      <td>8</td>\n",
       "      <td>0.03611</td>\n",
       "      <td>0.01759</td>\n",
       "      <td>0.02400</td>\n",
       "      <td>0.02033</td>\n",
       "      <td>0.01676</td>\n",
       "      <td>0.01585</td>\n",
       "    </tr>\n",
       "    <tr>\n",
       "      <th>4</th>\n",
       "      <td>10</td>\n",
       "      <td>0.03378</td>\n",
       "      <td>0.01714</td>\n",
       "      <td>0.02000</td>\n",
       "      <td>0.02011</td>\n",
       "      <td>0.01660</td>\n",
       "      <td>0.01565</td>\n",
       "    </tr>\n",
       "    <tr>\n",
       "      <th>5</th>\n",
       "      <td>12</td>\n",
       "      <td>0.03478</td>\n",
       "      <td>0.01730</td>\n",
       "      <td>0.02200</td>\n",
       "      <td>0.02011</td>\n",
       "      <td>0.01662</td>\n",
       "      <td>0.01570</td>\n",
       "    </tr>\n",
       "    <tr>\n",
       "      <th>6</th>\n",
       "      <td>14</td>\n",
       "      <td>0.03511</td>\n",
       "      <td>0.01745</td>\n",
       "      <td>0.02200</td>\n",
       "      <td>0.02033</td>\n",
       "      <td>0.01676</td>\n",
       "      <td>0.01583</td>\n",
       "    </tr>\n",
       "    <tr>\n",
       "      <th>7</th>\n",
       "      <td>16</td>\n",
       "      <td>0.03494</td>\n",
       "      <td>0.01739</td>\n",
       "      <td>0.02200</td>\n",
       "      <td>0.02011</td>\n",
       "      <td>0.01676</td>\n",
       "      <td>0.01583</td>\n",
       "    </tr>\n",
       "    <tr>\n",
       "      <th>8</th>\n",
       "      <td>18</td>\n",
       "      <td>0.03472</td>\n",
       "      <td>0.01735</td>\n",
       "      <td>0.02200</td>\n",
       "      <td>0.02011</td>\n",
       "      <td>0.01676</td>\n",
       "      <td>0.01583</td>\n",
       "    </tr>\n",
       "    <tr>\n",
       "      <th>9</th>\n",
       "      <td>20</td>\n",
       "      <td>0.03500</td>\n",
       "      <td>0.01743</td>\n",
       "      <td>0.02200</td>\n",
       "      <td>0.02033</td>\n",
       "      <td>0.01676</td>\n",
       "      <td>0.01583</td>\n",
       "    </tr>\n",
       "  </tbody>\n",
       "</table>\n",
       "</div>"
      ],
      "text/plain": [
       "   max_length      MRR      MAP      P@1      P@3      P@5     P@15\n",
       "0           3  0.01667  0.00816  0.01067  0.00933  0.00781  0.00737\n",
       "1           4  0.02156  0.01001  0.01533  0.01133  0.00940  0.00892\n",
       "2           6  0.02678  0.01308  0.01667  0.01522  0.01256  0.01188\n",
       "3           8  0.03611  0.01759  0.02400  0.02033  0.01676  0.01585\n",
       "4          10  0.03378  0.01714  0.02000  0.02011  0.01660  0.01565\n",
       "5          12  0.03478  0.01730  0.02200  0.02011  0.01662  0.01570\n",
       "6          14  0.03511  0.01745  0.02200  0.02033  0.01676  0.01583\n",
       "7          16  0.03494  0.01739  0.02200  0.02011  0.01676  0.01583\n",
       "8          18  0.03472  0.01735  0.02200  0.02011  0.01676  0.01583\n",
       "9          20  0.03500  0.01743  0.02200  0.02033  0.01676  0.01583"
      ]
     },
     "execution_count": 23,
     "metadata": {},
     "output_type": "execute_result"
    }
   ],
   "source": [
    "%%time\n",
    "params_predict(param_values, 'max_length')\n",
    "\n",
    "pd.read_csv('max_length_params_result_table.csv')"
   ]
  },
  {
   "cell_type": "code",
   "execution_count": 25,
   "id": "5dc04812-f6bc-4263-b406-e227c24ca921",
   "metadata": {},
   "outputs": [
    {
     "data": {
      "image/png": "[encoded data removed]",
      "text/plain": [
       "<Figure size 700x500 with 1 Axes>"
      ]
     },
     "metadata": {},
     "output_type": "display_data"
    }
   ],
   "source": [
    "plot('max_length')"
   ]
  },
  {
   "cell_type": "markdown",
   "id": "88bfba30-cd2e-487c-b567-f3ffb852f76a",
   "metadata": {},
   "source": [
    "## num_beams"
   ]
  },
  {
   "cell_type": "code",
   "execution_count": 34,
   "id": "ec258967-3cec-4234-82b5-00fd474b3209",
   "metadata": {},
   "outputs": [
    {
     "data": {
      "text/plain": [
       "[{'max_length': 8, 'num_beams': 1, 'early_stopping': True},\n",
       " {'max_length': 8, 'num_beams': 2, 'early_stopping': True},\n",
       " {'max_length': 8, 'num_beams': 3, 'early_stopping': True},\n",
       " {'max_length': 8, 'num_beams': 4, 'early_stopping': True}]"
      ]
     },
     "execution_count": 34,
     "metadata": {},
     "output_type": "execute_result"
    }
   ],
   "source": [
    "param_values = [{'max_length':8, 'num_beams': int(i), 'early_stopping':True} for i in np.linspace(1, 4, 4)]\n",
    "param_values"
   ]
  },
  {
   "cell_type": "code",
   "execution_count": 32,
   "id": "f0e8889a-c637-4ff6-9501-37b4821c868c",
   "metadata": {},
   "outputs": [
    {
     "name": "stdout",
     "output_type": "stream",
     "text": [
      "CPU times: user 4.69 ms, sys: 4 µs, total: 4.7 ms\n",
      "Wall time: 4.09 ms\n"
     ]
    },
    {
     "data": {
      "text/html": [
       "<div>\n",
       "<style scoped>\n",
       "    .dataframe tbody tr th:only-of-type {\n",
       "        vertical-align: middle;\n",
       "    }\n",
       "\n",
       "    .dataframe tbody tr th {\n",
       "        vertical-align: top;\n",
       "    }\n",
       "\n",
       "    .dataframe thead th {\n",
       "        text-align: right;\n",
       "    }\n",
       "</style>\n",
       "<table border=\"1\" class=\"dataframe\">\n",
       "  <thead>\n",
       "    <tr style=\"text-align: right;\">\n",
       "      <th></th>\n",
       "      <th>num_beams</th>\n",
       "      <th>MRR</th>\n",
       "      <th>MAP</th>\n",
       "      <th>P@1</th>\n",
       "      <th>P@3</th>\n",
       "      <th>P@5</th>\n",
       "      <th>P@15</th>\n",
       "    </tr>\n",
       "  </thead>\n",
       "  <tbody>\n",
       "    <tr>\n",
       "      <th>0</th>\n",
       "      <td>1</td>\n",
       "      <td>0.03111</td>\n",
       "      <td>0.01487</td>\n",
       "      <td>0.02133</td>\n",
       "      <td>0.01700</td>\n",
       "      <td>0.01416</td>\n",
       "      <td>0.01333</td>\n",
       "    </tr>\n",
       "    <tr>\n",
       "      <th>1</th>\n",
       "      <td>2</td>\n",
       "      <td>0.04200</td>\n",
       "      <td>0.02062</td>\n",
       "      <td>0.02933</td>\n",
       "      <td>0.02344</td>\n",
       "      <td>0.01961</td>\n",
       "      <td>0.01861</td>\n",
       "    </tr>\n",
       "    <tr>\n",
       "      <th>2</th>\n",
       "      <td>3</td>\n",
       "      <td>0.03967</td>\n",
       "      <td>0.01911</td>\n",
       "      <td>0.02667</td>\n",
       "      <td>0.02200</td>\n",
       "      <td>0.01811</td>\n",
       "      <td>0.01721</td>\n",
       "    </tr>\n",
       "    <tr>\n",
       "      <th>3</th>\n",
       "      <td>4</td>\n",
       "      <td>0.03811</td>\n",
       "      <td>0.01826</td>\n",
       "      <td>0.02667</td>\n",
       "      <td>0.02089</td>\n",
       "      <td>0.01726</td>\n",
       "      <td>0.01636</td>\n",
       "    </tr>\n",
       "  </tbody>\n",
       "</table>\n",
       "</div>"
      ],
      "text/plain": [
       "   num_beams      MRR      MAP      P@1      P@3      P@5     P@15\n",
       "0          1  0.03111  0.01487  0.02133  0.01700  0.01416  0.01333\n",
       "1          2  0.04200  0.02062  0.02933  0.02344  0.01961  0.01861\n",
       "2          3  0.03967  0.01911  0.02667  0.02200  0.01811  0.01721\n",
       "3          4  0.03811  0.01826  0.02667  0.02089  0.01726  0.01636"
      ]
     },
     "execution_count": 32,
     "metadata": {},
     "output_type": "execute_result"
    }
   ],
   "source": [
    "%%time\n",
    "params_predict(param_values, 'num_beams')\n",
    "pd.read_csv('num_beams_params_result_table.csv')"
   ]
  },
  {
   "cell_type": "code",
   "execution_count": 33,
   "id": "a7ed4e4d-8892-4407-9c15-1317231d939d",
   "metadata": {},
   "outputs": [
    {
     "data": {
      "image/png": "[encoded data removed]",
      "text/plain": [
       "<Figure size 700x500 with 1 Axes>"
      ]
     },
     "metadata": {},
     "output_type": "display_data"
    }
   ],
   "source": [
    "plot('num_beams')"
   ]
  },
  {
   "cell_type": "markdown",
   "id": "485b79eb-782c-4bda-ace7-d9f328644c37",
   "metadata": {},
   "source": [
    "# no_repeat_ngram_size"
   ]
  },
  {
   "cell_type": "code",
   "execution_count": 22,
   "id": "782fa588-69d5-4e8d-a1c2-bace7925c36f",
   "metadata": {},
   "outputs": [
    {
     "data": {
      "text/plain": [
       "[{'max_length': 8,\n",
       "  'num_beams': 4,\n",
       "  'no_repeat_ngram_size': 1,\n",
       "  'early_stopping': True},\n",
       " {'max_length': 8,\n",
       "  'num_beams': 4,\n",
       "  'no_repeat_ngram_size': 2,\n",
       "  'early_stopping': True},\n",
       " {'max_length': 8,\n",
       "  'num_beams': 4,\n",
       "  'no_repeat_ngram_size': 3,\n",
       "  'early_stopping': True},\n",
       " {'max_length': 8,\n",
       "  'num_beams': 4,\n",
       "  'no_repeat_ngram_size': 4,\n",
       "  'early_stopping': True}]"
      ]
     },
     "execution_count": 22,
     "metadata": {},
     "output_type": "execute_result"
    }
   ],
   "source": [
    "param_values = [{'max_length':8, 'num_beams': 4, \n",
    "                 'no_repeat_ngram_size':int(i), 'early_stopping':True} for i in np.linspace(1, 4, 4)]\n",
    "param_values"
   ]
  },
  {
   "cell_type": "code",
   "execution_count": 26,
   "id": "12ec92cc-6809-40bd-92da-3c4303becc91",
   "metadata": {},
   "outputs": [
    {
     "name": "stdout",
     "output_type": "stream",
     "text": [
      "CPU times: user 5.1 ms, sys: 17 µs, total: 5.12 ms\n",
      "Wall time: 4.67 ms\n"
     ]
    },
    {
     "data": {
      "text/html": [
       "<div>\n",
       "<style scoped>\n",
       "    .dataframe tbody tr th:only-of-type {\n",
       "        vertical-align: middle;\n",
       "    }\n",
       "\n",
       "    .dataframe tbody tr th {\n",
       "        vertical-align: top;\n",
       "    }\n",
       "\n",
       "    .dataframe thead th {\n",
       "        text-align: right;\n",
       "    }\n",
       "</style>\n",
       "<table border=\"1\" class=\"dataframe\">\n",
       "  <thead>\n",
       "    <tr style=\"text-align: right;\">\n",
       "      <th></th>\n",
       "      <th>no_repeat_ngram_size</th>\n",
       "      <th>MRR</th>\n",
       "      <th>MAP</th>\n",
       "      <th>P@1</th>\n",
       "      <th>P@3</th>\n",
       "      <th>P@5</th>\n",
       "      <th>P@15</th>\n",
       "    </tr>\n",
       "  </thead>\n",
       "  <tbody>\n",
       "    <tr>\n",
       "      <th>0</th>\n",
       "      <td>1</td>\n",
       "      <td>0.03733</td>\n",
       "      <td>0.01818</td>\n",
       "      <td>0.02600</td>\n",
       "      <td>0.02067</td>\n",
       "      <td>0.01727</td>\n",
       "      <td>0.01639</td>\n",
       "    </tr>\n",
       "    <tr>\n",
       "      <th>1</th>\n",
       "      <td>2</td>\n",
       "      <td>0.03733</td>\n",
       "      <td>0.01815</td>\n",
       "      <td>0.02533</td>\n",
       "      <td>0.02089</td>\n",
       "      <td>0.01726</td>\n",
       "      <td>0.01636</td>\n",
       "    </tr>\n",
       "    <tr>\n",
       "      <th>2</th>\n",
       "      <td>3</td>\n",
       "      <td>0.03667</td>\n",
       "      <td>0.01796</td>\n",
       "      <td>0.02467</td>\n",
       "      <td>0.02067</td>\n",
       "      <td>0.01712</td>\n",
       "      <td>0.01622</td>\n",
       "    </tr>\n",
       "    <tr>\n",
       "      <th>3</th>\n",
       "      <td>4</td>\n",
       "      <td>0.03733</td>\n",
       "      <td>0.01815</td>\n",
       "      <td>0.02533</td>\n",
       "      <td>0.02089</td>\n",
       "      <td>0.01726</td>\n",
       "      <td>0.01636</td>\n",
       "    </tr>\n",
       "  </tbody>\n",
       "</table>\n",
       "</div>"
      ],
      "text/plain": [
       "   no_repeat_ngram_size      MRR      MAP      P@1      P@3      P@5     P@15\n",
       "0                     1  0.03733  0.01818  0.02600  0.02067  0.01727  0.01639\n",
       "1                     2  0.03733  0.01815  0.02533  0.02089  0.01726  0.01636\n",
       "2                     3  0.03667  0.01796  0.02467  0.02067  0.01712  0.01622\n",
       "3                     4  0.03733  0.01815  0.02533  0.02089  0.01726  0.01636"
      ]
     },
     "execution_count": 26,
     "metadata": {},
     "output_type": "execute_result"
    }
   ],
   "source": [
    "%%time\n",
    "params_predict(param_values, 'no_repeat_ngram_size')\n",
    "\n",
    "pd.read_csv('no_repeat_ngram_size_params_result_table.csv')"
   ]
  },
  {
   "cell_type": "code",
   "execution_count": 27,
   "id": "212c3a72-568a-4d82-aa3f-04bd01991fc1",
   "metadata": {},
   "outputs": [
    {
     "data": {
      "image/png": "[encoded data removed]",
      "text/plain": [
       "<Figure size 700x500 with 1 Axes>"
      ]
     },
     "metadata": {},
     "output_type": "display_data"
    }
   ],
   "source": [
    "plot('no_repeat_ngram_size')"
   ]
  },
  {
   "cell_type": "markdown",
   "id": "b3a333bc-6e69-4097-93ec-5cf24ccee987",
   "metadata": {},
   "source": [
    "# num_return_sequences "
   ]
  },
  {
   "cell_type": "code",
   "execution_count": 39,
   "id": "29fc041a-52d1-472b-8f84-f0f98514519d",
   "metadata": {},
   "outputs": [],
   "source": [
    "cleanup()"
   ]
  },
  {
   "cell_type": "code",
   "execution_count": 44,
   "id": "f19d65b8-56b4-42fb-b1e8-b1fa4ae97877",
   "metadata": {},
   "outputs": [
    {
     "data": {
      "text/plain": [
       "[{'max_length': 8,\n",
       "  'num_beams': 1,\n",
       "  'num_return_sequences': 1,\n",
       "  'no_repeat_ngram_size': 2,\n",
       "  'early_stopping': True},\n",
       " {'max_length': 8,\n",
       "  'num_beams': 23,\n",
       "  'num_return_sequences': 23,\n",
       "  'no_repeat_ngram_size': 2,\n",
       "  'early_stopping': True},\n",
       " {'max_length': 8,\n",
       "  'num_beams': 45,\n",
       "  'num_return_sequences': 45,\n",
       "  'no_repeat_ngram_size': 2,\n",
       "  'early_stopping': True},\n",
       " {'max_length': 8,\n",
       "  'num_beams': 67,\n",
       "  'num_return_sequences': 67,\n",
       "  'no_repeat_ngram_size': 2,\n",
       "  'early_stopping': True},\n",
       " {'max_length': 8,\n",
       "  'num_beams': 89,\n",
       "  'num_return_sequences': 89,\n",
       "  'no_repeat_ngram_size': 2,\n",
       "  'early_stopping': True}]"
      ]
     },
     "execution_count": 44,
     "metadata": {},
     "output_type": "execute_result"
    }
   ],
   "source": [
    "param_values = [{'max_length':8, \n",
    "                 'num_beams':  int(i), \n",
    "                 'num_return_sequences': int(i),\n",
    "                 'no_repeat_ngram_size': 2, 'early_stopping':True} for i in np.linspace(1, 200, 10)]\n",
    "param_values = param_values[:5]\n",
    "param_values"
   ]
  },
  {
   "cell_type": "code",
   "execution_count": 43,
   "id": "53396b61-ef05-4026-9762-a9d13cd26c18",
   "metadata": {},
   "outputs": [
    {
     "name": "stdout",
     "output_type": "stream",
     "text": [
      "CPU times: user 331 µs, sys: 4 ms, total: 4.34 ms\n",
      "Wall time: 3.58 ms\n"
     ]
    },
    {
     "data": {
      "text/html": [
       "<div>\n",
       "<style scoped>\n",
       "    .dataframe tbody tr th:only-of-type {\n",
       "        vertical-align: middle;\n",
       "    }\n",
       "\n",
       "    .dataframe tbody tr th {\n",
       "        vertical-align: top;\n",
       "    }\n",
       "\n",
       "    .dataframe thead th {\n",
       "        text-align: right;\n",
       "    }\n",
       "</style>\n",
       "<table border=\"1\" class=\"dataframe\">\n",
       "  <thead>\n",
       "    <tr style=\"text-align: right;\">\n",
       "      <th></th>\n",
       "      <th>num_return_sequences</th>\n",
       "      <th>MRR</th>\n",
       "      <th>MAP</th>\n",
       "      <th>P@1</th>\n",
       "      <th>P@3</th>\n",
       "      <th>P@5</th>\n",
       "      <th>P@15</th>\n",
       "    </tr>\n",
       "  </thead>\n",
       "  <tbody>\n",
       "    <tr>\n",
       "      <th>0</th>\n",
       "      <td>1</td>\n",
       "      <td>0.03200</td>\n",
       "      <td>0.01498</td>\n",
       "      <td>0.02333</td>\n",
       "      <td>0.01700</td>\n",
       "      <td>0.01416</td>\n",
       "      <td>0.01333</td>\n",
       "    </tr>\n",
       "    <tr>\n",
       "      <th>1</th>\n",
       "      <td>23</td>\n",
       "      <td>0.05770</td>\n",
       "      <td>0.03985</td>\n",
       "      <td>0.02467</td>\n",
       "      <td>0.02389</td>\n",
       "      <td>0.03127</td>\n",
       "      <td>0.05123</td>\n",
       "    </tr>\n",
       "    <tr>\n",
       "      <th>2</th>\n",
       "      <td>45</td>\n",
       "      <td>0.04689</td>\n",
       "      <td>0.03699</td>\n",
       "      <td>0.01467</td>\n",
       "      <td>0.01800</td>\n",
       "      <td>0.02576</td>\n",
       "      <td>0.05847</td>\n",
       "    </tr>\n",
       "    <tr>\n",
       "      <th>3</th>\n",
       "      <td>67</td>\n",
       "      <td>0.03751</td>\n",
       "      <td>0.03066</td>\n",
       "      <td>0.00933</td>\n",
       "      <td>0.01422</td>\n",
       "      <td>0.01984</td>\n",
       "      <td>0.05215</td>\n",
       "    </tr>\n",
       "    <tr>\n",
       "      <th>4</th>\n",
       "      <td>89</td>\n",
       "      <td>0.03375</td>\n",
       "      <td>0.02649</td>\n",
       "      <td>0.00733</td>\n",
       "      <td>0.01256</td>\n",
       "      <td>0.01650</td>\n",
       "      <td>0.04404</td>\n",
       "    </tr>\n",
       "  </tbody>\n",
       "</table>\n",
       "</div>"
      ],
      "text/plain": [
       "   num_return_sequences      MRR      MAP      P@1      P@3      P@5     P@15\n",
       "0                     1  0.03200  0.01498  0.02333  0.01700  0.01416  0.01333\n",
       "1                    23  0.05770  0.03985  0.02467  0.02389  0.03127  0.05123\n",
       "2                    45  0.04689  0.03699  0.01467  0.01800  0.02576  0.05847\n",
       "3                    67  0.03751  0.03066  0.00933  0.01422  0.01984  0.05215\n",
       "4                    89  0.03375  0.02649  0.00733  0.01256  0.01650  0.04404"
      ]
     },
     "execution_count": 43,
     "metadata": {},
     "output_type": "execute_result"
    }
   ],
   "source": [
    "%%time\n",
    "params_predict(param_values, 'num_return_sequences')\n",
    "\n",
    "pd.read_csv('num_return_sequences_params_result_table.csv')"
   ]
  },
  {
   "cell_type": "code",
   "execution_count": 45,
   "id": "1c71bca8-4c3c-4686-8cc6-fec1afc7eb2f",
   "metadata": {},
   "outputs": [
    {
     "data": {
      "image/png": "[encoded data removed]",
      "text/plain": [
       "<Figure size 700x500 with 1 Axes>"
      ]
     },
     "metadata": {},
     "output_type": "display_data"
    }
   ],
   "source": [
    "plot('num_return_sequences')"
   ]
  },
  {
   "cell_type": "markdown",
   "id": "b3c3c612-4172-4ede-a734-141957f46dee",
   "metadata": {},
   "source": [
    "## Sampling\n",
    "\n",
    "In its most basic form, sampling means randomly picking the next word  w_t according to its conditional probability distribution"
   ]
  },
  {
   "cell_type": "code",
   "execution_count": 57,
   "id": "26e0fd0c-59ad-48a8-8e51-968a5ac84f1c",
   "metadata": {},
   "outputs": [
    {
     "data": {
      "text/plain": [
       "[{'max_length': 8,\n",
       "  'num_beams': 2,\n",
       "  'early_stopping': True,\n",
       "  'num_return_sequences': 2,\n",
       "  'top_k': 0,\n",
       "  'do_sample': True},\n",
       " {'max_length': 8,\n",
       "  'num_beams': 2,\n",
       "  'early_stopping': True,\n",
       "  'num_return_sequences': 2,\n",
       "  'top_k': 0,\n",
       "  'do_sample': False}]"
      ]
     },
     "execution_count": 57,
     "metadata": {},
     "output_type": "execute_result"
    }
   ],
   "source": [
    "param_values = [{'max_length':8, 'num_beams': 2, 'early_stopping':True, \n",
    "                 'num_return_sequences':2,\n",
    "                 \n",
    "                 'top_k': 0, # deactivate topk\n",
    "                 'do_sample': x} for x in [True, False]]\n",
    "param_values"
   ]
  },
  {
   "cell_type": "code",
   "execution_count": 58,
   "id": "308ee1b8-550a-4a17-ad04-ec189bd57c70",
   "metadata": {},
   "outputs": [
    {
     "name": "stderr",
     "output_type": "stream",
     "text": [
      "100%|████████████████████████████████████████████████████████████████████████████████████| 2/2 [10:51<00:00, 325.91s/it]"
     ]
    },
    {
     "name": "stdout",
     "output_type": "stream",
     "text": [
      "CPU times: user 10min 50s, sys: 1.63 s, total: 10min 52s\n",
      "Wall time: 10min 51s\n"
     ]
    },
    {
     "name": "stderr",
     "output_type": "stream",
     "text": [
      "\n"
     ]
    }
   ],
   "source": [
    "%%time\n",
    "params_predict(param_values, 'do_sample')"
   ]
  },
  {
   "cell_type": "code",
   "execution_count": 60,
   "id": "c4345888-c685-48ba-b04e-7359049988dd",
   "metadata": {},
   "outputs": [
    {
     "data": {
      "text/html": [
       "<div>\n",
       "<style scoped>\n",
       "    .dataframe tbody tr th:only-of-type {\n",
       "        vertical-align: middle;\n",
       "    }\n",
       "\n",
       "    .dataframe tbody tr th {\n",
       "        vertical-align: top;\n",
       "    }\n",
       "\n",
       "    .dataframe thead th {\n",
       "        text-align: right;\n",
       "    }\n",
       "</style>\n",
       "<table border=\"1\" class=\"dataframe\">\n",
       "  <thead>\n",
       "    <tr style=\"text-align: right;\">\n",
       "      <th></th>\n",
       "      <th>do_sample</th>\n",
       "      <th>MRR</th>\n",
       "      <th>MAP</th>\n",
       "      <th>P@1</th>\n",
       "      <th>P@3</th>\n",
       "      <th>P@5</th>\n",
       "      <th>P@15</th>\n",
       "    </tr>\n",
       "  </thead>\n",
       "  <tbody>\n",
       "    <tr>\n",
       "      <th>0</th>\n",
       "      <td>True</td>\n",
       "      <td>0.04200</td>\n",
       "      <td>0.01973</td>\n",
       "      <td>0.03000</td>\n",
       "      <td>0.02278</td>\n",
       "      <td>0.01868</td>\n",
       "      <td>0.01760</td>\n",
       "    </tr>\n",
       "    <tr>\n",
       "      <th>1</th>\n",
       "      <td>False</td>\n",
       "      <td>0.04311</td>\n",
       "      <td>0.02153</td>\n",
       "      <td>0.02933</td>\n",
       "      <td>0.02500</td>\n",
       "      <td>0.02076</td>\n",
       "      <td>0.01958</td>\n",
       "    </tr>\n",
       "  </tbody>\n",
       "</table>\n",
       "</div>"
      ],
      "text/plain": [
       "   do_sample      MRR      MAP      P@1      P@3      P@5     P@15\n",
       "0       True  0.04200  0.01973  0.03000  0.02278  0.01868  0.01760\n",
       "1      False  0.04311  0.02153  0.02933  0.02500  0.02076  0.01958"
      ]
     },
     "execution_count": 60,
     "metadata": {},
     "output_type": "execute_result"
    }
   ],
   "source": [
    "pd.read_csv('do_sample_params_result_table.csv')"
   ]
  },
  {
   "cell_type": "markdown",
   "id": "d4911800-0070-4c30-a93a-c22e488bb780",
   "metadata": {},
   "source": [
    "## temperature"
   ]
  },
  {
   "cell_type": "code",
   "execution_count": 77,
   "id": "98c2fa07-365a-4d97-9df6-c5f6d36e1d92",
   "metadata": {},
   "outputs": [
    {
     "data": {
      "text/plain": [
       "[{'max_length': 8,\n",
       "  'num_beams': 2,\n",
       "  'early_stopping': True,\n",
       "  'num_return_sequences': 2,\n",
       "  'do_sample': True,\n",
       "  'top_k': 0,\n",
       "  'temperature': 0.1},\n",
       " {'max_length': 8,\n",
       "  'num_beams': 2,\n",
       "  'early_stopping': True,\n",
       "  'num_return_sequences': 2,\n",
       "  'do_sample': True,\n",
       "  'top_k': 0,\n",
       "  'temperature': 0.3333333333333333},\n",
       " {'max_length': 8,\n",
       "  'num_beams': 2,\n",
       "  'early_stopping': True,\n",
       "  'num_return_sequences': 2,\n",
       "  'do_sample': True,\n",
       "  'top_k': 0,\n",
       "  'temperature': 0.5666666666666667},\n",
       " {'max_length': 8,\n",
       "  'num_beams': 2,\n",
       "  'early_stopping': True,\n",
       "  'num_return_sequences': 2,\n",
       "  'do_sample': True,\n",
       "  'top_k': 0,\n",
       "  'temperature': 0.7999999999999999},\n",
       " {'max_length': 8,\n",
       "  'num_beams': 2,\n",
       "  'early_stopping': True,\n",
       "  'num_return_sequences': 2,\n",
       "  'do_sample': True,\n",
       "  'top_k': 0,\n",
       "  'temperature': 1.0333333333333332},\n",
       " {'max_length': 8,\n",
       "  'num_beams': 2,\n",
       "  'early_stopping': True,\n",
       "  'num_return_sequences': 2,\n",
       "  'do_sample': True,\n",
       "  'top_k': 0,\n",
       "  'temperature': 1.2666666666666666},\n",
       " {'max_length': 8,\n",
       "  'num_beams': 2,\n",
       "  'early_stopping': True,\n",
       "  'num_return_sequences': 2,\n",
       "  'do_sample': True,\n",
       "  'top_k': 0,\n",
       "  'temperature': 1.5}]"
      ]
     },
     "execution_count": 77,
     "metadata": {},
     "output_type": "execute_result"
    }
   ],
   "source": [
    "param_values = [{'max_length':8, \n",
    "                 'num_beams': 2, \n",
    "                 'early_stopping':True,\n",
    "                 'num_return_sequences':2,\n",
    "                 'do_sample': True,\n",
    "                 'top_k':0, \n",
    "                 'temperature': i\n",
    "                } for i in np.linspace(0.1, 1.5, 7)]\n",
    "param_values"
   ]
  },
  {
   "cell_type": "code",
   "execution_count": 78,
   "id": "ac5aadcb-5031-410e-8bbf-7d079cf1b0d7",
   "metadata": {},
   "outputs": [
    {
     "name": "stderr",
     "output_type": "stream",
     "text": [
      "100%|████████████████████████████████████████████████████████████████████████████████████| 7/7 [38:36<00:00, 330.99s/it]"
     ]
    },
    {
     "name": "stdout",
     "output_type": "stream",
     "text": [
      "CPU times: user 38min 32s, sys: 5.95 s, total: 38min 38s\n",
      "Wall time: 38min 36s\n"
     ]
    },
    {
     "name": "stderr",
     "output_type": "stream",
     "text": [
      "\n"
     ]
    },
    {
     "data": {
      "text/html": [
       "<div>\n",
       "<style scoped>\n",
       "    .dataframe tbody tr th:only-of-type {\n",
       "        vertical-align: middle;\n",
       "    }\n",
       "\n",
       "    .dataframe tbody tr th {\n",
       "        vertical-align: top;\n",
       "    }\n",
       "\n",
       "    .dataframe thead th {\n",
       "        text-align: right;\n",
       "    }\n",
       "</style>\n",
       "<table border=\"1\" class=\"dataframe\">\n",
       "  <thead>\n",
       "    <tr style=\"text-align: right;\">\n",
       "      <th></th>\n",
       "      <th>temperature</th>\n",
       "      <th>MRR</th>\n",
       "      <th>MAP</th>\n",
       "      <th>P@1</th>\n",
       "      <th>P@3</th>\n",
       "      <th>P@5</th>\n",
       "      <th>P@15</th>\n",
       "    </tr>\n",
       "  </thead>\n",
       "  <tbody>\n",
       "    <tr>\n",
       "      <th>0</th>\n",
       "      <td>0.100000</td>\n",
       "      <td>0.03200</td>\n",
       "      <td>0.01498</td>\n",
       "      <td>0.02333</td>\n",
       "      <td>0.01700</td>\n",
       "      <td>0.01416</td>\n",
       "      <td>0.01333</td>\n",
       "    </tr>\n",
       "    <tr>\n",
       "      <th>1</th>\n",
       "      <td>0.333333</td>\n",
       "      <td>0.03200</td>\n",
       "      <td>0.01498</td>\n",
       "      <td>0.02333</td>\n",
       "      <td>0.01700</td>\n",
       "      <td>0.01416</td>\n",
       "      <td>0.01333</td>\n",
       "    </tr>\n",
       "    <tr>\n",
       "      <th>2</th>\n",
       "      <td>0.566667</td>\n",
       "      <td>0.03167</td>\n",
       "      <td>0.01477</td>\n",
       "      <td>0.02333</td>\n",
       "      <td>0.01678</td>\n",
       "      <td>0.01393</td>\n",
       "      <td>0.01310</td>\n",
       "    </tr>\n",
       "    <tr>\n",
       "      <th>3</th>\n",
       "      <td>0.800000</td>\n",
       "      <td>0.03478</td>\n",
       "      <td>0.01648</td>\n",
       "      <td>0.02467</td>\n",
       "      <td>0.01900</td>\n",
       "      <td>0.01566</td>\n",
       "      <td>0.01472</td>\n",
       "    </tr>\n",
       "    <tr>\n",
       "      <th>4</th>\n",
       "      <td>1.033333</td>\n",
       "      <td>0.04128</td>\n",
       "      <td>0.02040</td>\n",
       "      <td>0.02867</td>\n",
       "      <td>0.02367</td>\n",
       "      <td>0.01961</td>\n",
       "      <td>0.01850</td>\n",
       "    </tr>\n",
       "    <tr>\n",
       "      <th>5</th>\n",
       "      <td>1.266667</td>\n",
       "      <td>0.03393</td>\n",
       "      <td>0.01968</td>\n",
       "      <td>0.01800</td>\n",
       "      <td>0.02122</td>\n",
       "      <td>0.01951</td>\n",
       "      <td>0.01908</td>\n",
       "    </tr>\n",
       "    <tr>\n",
       "      <th>6</th>\n",
       "      <td>1.500000</td>\n",
       "      <td>0.02006</td>\n",
       "      <td>0.01119</td>\n",
       "      <td>0.01000</td>\n",
       "      <td>0.01100</td>\n",
       "      <td>0.01134</td>\n",
       "      <td>0.01131</td>\n",
       "    </tr>\n",
       "  </tbody>\n",
       "</table>\n",
       "</div>"
      ],
      "text/plain": [
       "   temperature      MRR      MAP      P@1      P@3      P@5     P@15\n",
       "0     0.100000  0.03200  0.01498  0.02333  0.01700  0.01416  0.01333\n",
       "1     0.333333  0.03200  0.01498  0.02333  0.01700  0.01416  0.01333\n",
       "2     0.566667  0.03167  0.01477  0.02333  0.01678  0.01393  0.01310\n",
       "3     0.800000  0.03478  0.01648  0.02467  0.01900  0.01566  0.01472\n",
       "4     1.033333  0.04128  0.02040  0.02867  0.02367  0.01961  0.01850\n",
       "5     1.266667  0.03393  0.01968  0.01800  0.02122  0.01951  0.01908\n",
       "6     1.500000  0.02006  0.01119  0.01000  0.01100  0.01134  0.01131"
      ]
     },
     "execution_count": 78,
     "metadata": {},
     "output_type": "execute_result"
    }
   ],
   "source": [
    "%%time\n",
    "params_predict(param_values, 'temperature')\n",
    "\n",
    "pd.read_csv('temperature_params_result_table.csv')"
   ]
  },
  {
   "cell_type": "code",
   "execution_count": 79,
   "id": "443b8cc1-32a9-4f01-9bf8-cca8caf7f85f",
   "metadata": {},
   "outputs": [
    {
     "data": {
      "image/png": "[encoded data removed]",
      "text/plain": [
       "<Figure size 700x500 with 1 Axes>"
      ]
     },
     "metadata": {},
     "output_type": "display_data"
    }
   ],
   "source": [
    "plot('temperature')"
   ]
  },
  {
   "cell_type": "markdown",
   "id": "1434480f-0c17-4e1a-a6cd-b94db7db7f58",
   "metadata": {
    "tags": []
   },
   "source": [
    "## top_p"
   ]
  },
  {
   "cell_type": "code",
   "execution_count": 85,
   "id": "3ff8445a-c005-4e4b-a7f0-93d3ab0e932c",
   "metadata": {},
   "outputs": [
    {
     "data": {
      "text/plain": [
       "[{'max_length': 8,\n",
       "  'num_beams': 23,\n",
       "  'num_return_sequences': 23,\n",
       "  'early_stopping': True,\n",
       "  'do_sample': True,\n",
       "  'top_k': 10,\n",
       "  'top_p': 0.9},\n",
       " {'max_length': 8,\n",
       "  'num_beams': 23,\n",
       "  'num_return_sequences': 23,\n",
       "  'early_stopping': True,\n",
       "  'do_sample': True,\n",
       "  'top_k': 10,\n",
       "  'top_p': 0.92},\n",
       " {'max_length': 8,\n",
       "  'num_beams': 23,\n",
       "  'num_return_sequences': 23,\n",
       "  'early_stopping': True,\n",
       "  'do_sample': True,\n",
       "  'top_k': 10,\n",
       "  'top_p': 0.94},\n",
       " {'max_length': 8,\n",
       "  'num_beams': 23,\n",
       "  'num_return_sequences': 23,\n",
       "  'early_stopping': True,\n",
       "  'do_sample': True,\n",
       "  'top_k': 10,\n",
       "  'top_p': 0.97},\n",
       " {'max_length': 8,\n",
       "  'num_beams': 23,\n",
       "  'num_return_sequences': 23,\n",
       "  'early_stopping': True,\n",
       "  'do_sample': True,\n",
       "  'top_k': 10,\n",
       "  'top_p': 0.99}]"
      ]
     },
     "execution_count": 85,
     "metadata": {},
     "output_type": "execute_result"
    }
   ],
   "source": [
    "param_values = [{'max_length':8, \n",
    "                 'num_beams': 23, \n",
    "                 'num_return_sequences': 23, \n",
    "                 'early_stopping':True,\n",
    "                 'do_sample':True, \n",
    "                 'top_k': 10, \n",
    "                 'top_p': round(i, 2)\n",
    "                } for i in np.linspace(0.9, 0.99, 5)]\n",
    "param_values"
   ]
  },
  {
   "cell_type": "code",
   "execution_count": 86,
   "id": "0d377af6-a471-4b47-9749-fb3ec3b187ce",
   "metadata": {},
   "outputs": [
    {
     "name": "stderr",
     "output_type": "stream",
     "text": [
      "100%|██████████████████████████████████████████████████████████████████████████████████| 5/5 [1:12:14<00:00, 866.86s/it]"
     ]
    },
    {
     "name": "stdout",
     "output_type": "stream",
     "text": [
      "CPU times: user 1h 12min 10s, sys: 5.66 s, total: 1h 12min 15s\n",
      "Wall time: 1h 12min 14s\n"
     ]
    },
    {
     "name": "stderr",
     "output_type": "stream",
     "text": [
      "\n"
     ]
    },
    {
     "data": {
      "text/html": [
       "<div>\n",
       "<style scoped>\n",
       "    .dataframe tbody tr th:only-of-type {\n",
       "        vertical-align: middle;\n",
       "    }\n",
       "\n",
       "    .dataframe tbody tr th {\n",
       "        vertical-align: top;\n",
       "    }\n",
       "\n",
       "    .dataframe thead th {\n",
       "        text-align: right;\n",
       "    }\n",
       "</style>\n",
       "<table border=\"1\" class=\"dataframe\">\n",
       "  <thead>\n",
       "    <tr style=\"text-align: right;\">\n",
       "      <th></th>\n",
       "      <th>top_p</th>\n",
       "      <th>MRR</th>\n",
       "      <th>MAP</th>\n",
       "      <th>P@1</th>\n",
       "      <th>P@3</th>\n",
       "      <th>P@5</th>\n",
       "      <th>P@15</th>\n",
       "    </tr>\n",
       "  </thead>\n",
       "  <tbody>\n",
       "    <tr>\n",
       "      <th>0</th>\n",
       "      <td>0.90</td>\n",
       "      <td>0.04144</td>\n",
       "      <td>0.02015</td>\n",
       "      <td>0.02933</td>\n",
       "      <td>0.02311</td>\n",
       "      <td>0.01921</td>\n",
       "      <td>0.01811</td>\n",
       "    </tr>\n",
       "    <tr>\n",
       "      <th>1</th>\n",
       "      <td>0.92</td>\n",
       "      <td>0.04189</td>\n",
       "      <td>0.02031</td>\n",
       "      <td>0.02933</td>\n",
       "      <td>0.02333</td>\n",
       "      <td>0.01934</td>\n",
       "      <td>0.01822</td>\n",
       "    </tr>\n",
       "    <tr>\n",
       "      <th>2</th>\n",
       "      <td>0.94</td>\n",
       "      <td>0.04222</td>\n",
       "      <td>0.02048</td>\n",
       "      <td>0.02933</td>\n",
       "      <td>0.02356</td>\n",
       "      <td>0.01951</td>\n",
       "      <td>0.01839</td>\n",
       "    </tr>\n",
       "    <tr>\n",
       "      <th>3</th>\n",
       "      <td>0.97</td>\n",
       "      <td>0.04289</td>\n",
       "      <td>0.02106</td>\n",
       "      <td>0.02933</td>\n",
       "      <td>0.02433</td>\n",
       "      <td>0.02011</td>\n",
       "      <td>0.01899</td>\n",
       "    </tr>\n",
       "    <tr>\n",
       "      <th>4</th>\n",
       "      <td>0.99</td>\n",
       "      <td>0.04256</td>\n",
       "      <td>0.02075</td>\n",
       "      <td>0.02933</td>\n",
       "      <td>0.02400</td>\n",
       "      <td>0.01978</td>\n",
       "      <td>0.01865</td>\n",
       "    </tr>\n",
       "  </tbody>\n",
       "</table>\n",
       "</div>"
      ],
      "text/plain": [
       "   top_p      MRR      MAP      P@1      P@3      P@5     P@15\n",
       "0   0.90  0.04144  0.02015  0.02933  0.02311  0.01921  0.01811\n",
       "1   0.92  0.04189  0.02031  0.02933  0.02333  0.01934  0.01822\n",
       "2   0.94  0.04222  0.02048  0.02933  0.02356  0.01951  0.01839\n",
       "3   0.97  0.04289  0.02106  0.02933  0.02433  0.02011  0.01899\n",
       "4   0.99  0.04256  0.02075  0.02933  0.02400  0.01978  0.01865"
      ]
     },
     "execution_count": 86,
     "metadata": {},
     "output_type": "execute_result"
    }
   ],
   "source": [
    "%%time\n",
    "params_predict(param_values, 'top_p')\n",
    "\n",
    "pd.read_csv('top_p_params_result_table.csv')"
   ]
  },
  {
   "cell_type": "code",
   "execution_count": 88,
   "id": "b7361e20-cf07-4ebf-ac9d-acc93bfb770f",
   "metadata": {},
   "outputs": [
    {
     "data": {
      "image/png": "[encoded data removed]",
      "text/plain": [
       "<Figure size 700x500 with 1 Axes>"
      ]
     },
     "metadata": {},
     "output_type": "display_data"
    }
   ],
   "source": [
    "plot('top_p')"
   ]
  }
 ],
 "metadata": {
  "kernelspec": {
   "display_name": "Python 3 (ipykernel)",
   "language": "python",
   "name": "python3"
  },
  "language_info": {
   "codemirror_mode": {
    "name": "ipython",
    "version": 3
   },
   "file_extension": ".py",
   "mimetype": "text/x-python",
   "name": "python",
   "nbconvert_exporter": "python",
   "pygments_lexer": "ipython3",
   "version": "3.10.8"
  }
 },
 "nbformat": 4,
 "nbformat_minor": 5
}
