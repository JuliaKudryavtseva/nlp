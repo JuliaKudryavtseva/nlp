{
 "cells": [
  {
   "cell_type": "code",
   "execution_count": 1,
   "id": "c13648fb-efab-4112-8e02-2fd8fbc55211",
   "metadata": {},
   "outputs": [
    {
     "data": {
      "application/javascript": [
       "IPython.notebook.set_autosave_interval(30000)"
      ]
     },
     "metadata": {},
     "output_type": "display_data"
    },
    {
     "name": "stdout",
     "output_type": "stream",
     "text": [
      "Autosaving every 30 seconds\n"
     ]
    }
   ],
   "source": [
    "%autosave 30"
   ]
  },
  {
   "cell_type": "code",
   "execution_count": 2,
   "id": "9fefc3b0-be4d-4b4a-8412-dab6214adce1",
   "metadata": {},
   "outputs": [
    {
     "name": "stdout",
     "output_type": "stream",
     "text": [
      "Collecting torch\n",
      "  Downloading torch-2.0.0-cp310-cp310-manylinux1_x86_64.whl (619.9 MB)\n",
      "\u001b[2K     \u001b[90m━━━━━━━━━━━━━━━━━━━━━━━━━━━━━━━━━━━━━━━\u001b[0m \u001b[32m619.9/619.9 MB\u001b[0m \u001b[31m4.0 MB/s\u001b[0m eta \u001b[36m0:00:00\u001b[0m00:01\u001b[0m00:02\u001b[0m\n",
      "\u001b[?25hCollecting nvidia-cuda-cupti-cu11==11.7.101\n",
      "  Downloading nvidia_cuda_cupti_cu11-11.7.101-py3-none-manylinux1_x86_64.whl (11.8 MB)\n",
      "\u001b[2K     \u001b[90m━━━━━━━━━━━━━━━━━━━━━━━━━━━━━━━━━━━━━━━━\u001b[0m \u001b[32m11.8/11.8 MB\u001b[0m \u001b[31m11.3 MB/s\u001b[0m eta \u001b[36m0:00:00\u001b[0m00:01\u001b[0m00:01\u001b[0m\n",
      "\u001b[?25hCollecting nvidia-cudnn-cu11==8.5.0.96\n",
      "  Downloading nvidia_cudnn_cu11-8.5.0.96-2-py3-none-manylinux1_x86_64.whl (557.1 MB)\n",
      "\u001b[2K     \u001b[90m━━━━━━━━━━━━━━━━━━━━━━━━━━━━━━━━━━━━━━━\u001b[0m \u001b[32m557.1/557.1 MB\u001b[0m \u001b[31m3.0 MB/s\u001b[0m eta \u001b[36m0:00:00\u001b[0m00:01\u001b[0m00:03\u001b[0m\n",
      "\u001b[?25hCollecting nvidia-cusparse-cu11==11.7.4.91\n",
      "  Downloading nvidia_cusparse_cu11-11.7.4.91-py3-none-manylinux1_x86_64.whl (173.2 MB)\n",
      "\u001b[2K     \u001b[90m━━━━━━━━━━━━━━━━━━━━━━━━━━━━━━━━━━━━━━━\u001b[0m \u001b[32m173.2/173.2 MB\u001b[0m \u001b[31m4.9 MB/s\u001b[0m eta \u001b[36m0:00:00\u001b[0m00:01\u001b[0m00:01\u001b[0m\n",
      "\u001b[?25hRequirement already satisfied: sympy in /opt/conda/lib/python3.10/site-packages (from torch) (1.11.1)\n",
      "Collecting nvidia-cuda-runtime-cu11==11.7.99\n",
      "  Downloading nvidia_cuda_runtime_cu11-11.7.99-py3-none-manylinux1_x86_64.whl (849 kB)\n",
      "\u001b[2K     \u001b[90m━━━━━━━━━━━━━━━━━━━━━━━━━━━━━━━━━━━━━━━\u001b[0m \u001b[32m849.3/849.3 kB\u001b[0m \u001b[31m7.0 MB/s\u001b[0m eta \u001b[36m0:00:00\u001b[0ma \u001b[36m0:00:01\u001b[0m\n",
      "\u001b[?25hRequirement already satisfied: jinja2 in /opt/conda/lib/python3.10/site-packages (from torch) (3.1.2)\n",
      "Collecting nvidia-cusolver-cu11==11.4.0.1\n",
      "  Downloading nvidia_cusolver_cu11-11.4.0.1-2-py3-none-manylinux1_x86_64.whl (102.6 MB)\n",
      "\u001b[2K     \u001b[90m━━━━━━━━━━━━━━━━━━━━━━━━━━━━━━━━━━━━━━━\u001b[0m \u001b[32m102.6/102.6 MB\u001b[0m \u001b[31m7.0 MB/s\u001b[0m eta \u001b[36m0:00:00\u001b[0m00:01\u001b[0m00:01\u001b[0m\n",
      "\u001b[?25hRequirement already satisfied: networkx in /opt/conda/lib/python3.10/site-packages (from torch) (3.0)\n",
      "Collecting nvidia-cublas-cu11==11.10.3.66\n",
      "  Downloading nvidia_cublas_cu11-11.10.3.66-py3-none-manylinux1_x86_64.whl (317.1 MB)\n",
      "\u001b[2K     \u001b[90m━━━━━━━━━━━━━━━━━━━━━━━━━━━━━━━━━━━━━━━\u001b[0m \u001b[32m317.1/317.1 MB\u001b[0m \u001b[31m7.1 MB/s\u001b[0m eta \u001b[36m0:00:00\u001b[0m00:01\u001b[0m00:01\u001b[0m\n",
      "\u001b[?25hCollecting nvidia-nccl-cu11==2.14.3\n",
      "  Downloading nvidia_nccl_cu11-2.14.3-py3-none-manylinux1_x86_64.whl (177.1 MB)\n",
      "\u001b[2K     \u001b[90m━━━━━━━━━━━━━━━━━━━━━━━━━━━━━━━━━━━━━━━\u001b[0m \u001b[32m177.1/177.1 MB\u001b[0m \u001b[31m8.2 MB/s\u001b[0m eta \u001b[36m0:00:00\u001b[0m00:01\u001b[0m00:01\u001b[0m\n",
      "\u001b[?25hRequirement already satisfied: filelock in /opt/conda/lib/python3.10/site-packages (from torch) (3.10.7)\n",
      "Collecting nvidia-curand-cu11==10.2.10.91\n",
      "  Downloading nvidia_curand_cu11-10.2.10.91-py3-none-manylinux1_x86_64.whl (54.6 MB)\n",
      "\u001b[2K     \u001b[90m━━━━━━━━━━━━━━━━━━━━━━━━━━━━━━━━━━━━━━━━\u001b[0m \u001b[32m54.6/54.6 MB\u001b[0m \u001b[31m12.1 MB/s\u001b[0m eta \u001b[36m0:00:00\u001b[0m00:01\u001b[0m00:01\u001b[0m\n",
      "\u001b[?25hCollecting triton==2.0.0\n",
      "  Downloading triton-2.0.0-1-cp310-cp310-manylinux2014_x86_64.manylinux_2_17_x86_64.whl (63.3 MB)\n",
      "\u001b[2K     \u001b[90m━━━━━━━━━━━━━━━━━━━━━━━━━━━━━━━━━━━━━━━━\u001b[0m \u001b[32m63.3/63.3 MB\u001b[0m \u001b[31m7.3 MB/s\u001b[0m eta \u001b[36m0:00:00\u001b[0m00:01\u001b[0m00:01\u001b[0mm\n",
      "\u001b[?25hCollecting nvidia-cufft-cu11==10.9.0.58\n",
      "  Downloading nvidia_cufft_cu11-10.9.0.58-py3-none-manylinux1_x86_64.whl (168.4 MB)\n",
      "\u001b[2K     \u001b[90m━━━━━━━━━━━━━━━━━━━━━━━━━━━━━━━━━━━━━━━\u001b[0m \u001b[32m168.4/168.4 MB\u001b[0m \u001b[31m2.6 MB/s\u001b[0m eta \u001b[36m0:00:00\u001b[0m00:01\u001b[0m00:02\u001b[0m\n",
      "\u001b[?25hRequirement already satisfied: typing-extensions in /opt/conda/lib/python3.10/site-packages (from torch) (4.4.0)\n",
      "Collecting nvidia-cuda-nvrtc-cu11==11.7.99\n",
      "  Downloading nvidia_cuda_nvrtc_cu11-11.7.99-2-py3-none-manylinux1_x86_64.whl (21.0 MB)\n",
      "\u001b[2K     \u001b[90m━━━━━━━━━━━━━━━━━━━━━━━━━━━━━━━━━━━━━━━━\u001b[0m \u001b[32m21.0/21.0 MB\u001b[0m \u001b[31m3.3 MB/s\u001b[0m eta \u001b[36m0:00:00\u001b[0m00:01\u001b[0m00:01\u001b[0m\n",
      "\u001b[?25hCollecting nvidia-nvtx-cu11==11.7.91\n",
      "  Downloading nvidia_nvtx_cu11-11.7.91-py3-none-manylinux1_x86_64.whl (98 kB)\n",
      "\u001b[2K     \u001b[90m━━━━━━━━━━━━━━━━━━━━━━━━━━━━━━━━━━━━━━━━\u001b[0m \u001b[32m98.6/98.6 kB\u001b[0m \u001b[31m3.5 MB/s\u001b[0m eta \u001b[36m0:00:00\u001b[0m\n",
      "\u001b[?25hRequirement already satisfied: wheel in /opt/conda/lib/python3.10/site-packages (from nvidia-cublas-cu11==11.10.3.66->torch) (0.38.4)\n",
      "Requirement already satisfied: setuptools in /opt/conda/lib/python3.10/site-packages (from nvidia-cublas-cu11==11.10.3.66->torch) (66.1.1)\n",
      "Collecting cmake\n",
      "  Downloading cmake-3.26.1-py2.py3-none-manylinux2014_x86_64.manylinux_2_17_x86_64.whl (24.0 MB)\n",
      "\u001b[2K     \u001b[90m━━━━━━━━━━━━━━━━━━━━━━━━━━━━━━━━━━━━━━━━\u001b[0m \u001b[32m24.0/24.0 MB\u001b[0m \u001b[31m5.0 MB/s\u001b[0m eta \u001b[36m0:00:00\u001b[0m00:01\u001b[0m00:01\u001b[0m\n",
      "\u001b[?25hCollecting lit\n",
      "  Downloading lit-16.0.0.tar.gz (144 kB)\n",
      "\u001b[2K     \u001b[90m━━━━━━━━━━━━━━━━━━━━━━━━━━━━━━━━━━━━━━━\u001b[0m \u001b[32m145.0/145.0 kB\u001b[0m \u001b[31m6.3 MB/s\u001b[0m eta \u001b[36m0:00:00\u001b[0m\n",
      "\u001b[?25h  Preparing metadata (setup.py) ... \u001b[?25ldone\n",
      "\u001b[?25hRequirement already satisfied: MarkupSafe>=2.0 in /opt/conda/lib/python3.10/site-packages (from jinja2->torch) (2.1.2)\n",
      "Requirement already satisfied: mpmath>=0.19 in /opt/conda/lib/python3.10/site-packages (from sympy->torch) (1.2.1)\n",
      "Building wheels for collected packages: lit\n",
      "  Building wheel for lit (setup.py) ... \u001b[?25ldone\n",
      "\u001b[?25h  Created wheel for lit: filename=lit-16.0.0-py3-none-any.whl size=93582 sha256=78f0f643ffe6195731f9a31dc75e3ba1a211995d6c5889b21bb8f1667920f3cb\n",
      "  Stored in directory: /home/jovyan/.cache/pip/wheels/e5/7f/66/8bfd6d52625bf85b29fa507f79fbc3f5cb4bb72eae40318074\n",
      "Successfully built lit\n",
      "Installing collected packages: lit, cmake, nvidia-nvtx-cu11, nvidia-nccl-cu11, nvidia-cusparse-cu11, nvidia-curand-cu11, nvidia-cufft-cu11, nvidia-cuda-runtime-cu11, nvidia-cuda-nvrtc-cu11, nvidia-cuda-cupti-cu11, nvidia-cublas-cu11, nvidia-cusolver-cu11, nvidia-cudnn-cu11, triton, torch\n",
      "Successfully installed cmake-3.26.1 lit-16.0.0 nvidia-cublas-cu11-11.10.3.66 nvidia-cuda-cupti-cu11-11.7.101 nvidia-cuda-nvrtc-cu11-11.7.99 nvidia-cuda-runtime-cu11-11.7.99 nvidia-cudnn-cu11-8.5.0.96 nvidia-cufft-cu11-10.9.0.58 nvidia-curand-cu11-10.2.10.91 nvidia-cusolver-cu11-11.4.0.1 nvidia-cusparse-cu11-11.7.4.91 nvidia-nccl-cu11-2.14.3 nvidia-nvtx-cu11-11.7.91 torch-2.0.0 triton-2.0.0\n",
      "Requirement already satisfied: transformers in /opt/conda/lib/python3.10/site-packages (4.27.4)\n",
      "Requirement already satisfied: packaging>=20.0 in /opt/conda/lib/python3.10/site-packages (from transformers) (23.0)\n",
      "Requirement already satisfied: tokenizers!=0.11.3,<0.14,>=0.11.1 in /opt/conda/lib/python3.10/site-packages (from transformers) (0.13.2)\n",
      "Requirement already satisfied: huggingface-hub<1.0,>=0.11.0 in /opt/conda/lib/python3.10/site-packages (from transformers) (0.13.3)\n",
      "Requirement already satisfied: numpy>=1.17 in /opt/conda/lib/python3.10/site-packages (from transformers) (1.23.5)\n",
      "Requirement already satisfied: requests in /opt/conda/lib/python3.10/site-packages (from transformers) (2.28.2)\n",
      "Requirement already satisfied: tqdm>=4.27 in /opt/conda/lib/python3.10/site-packages (from transformers) (4.64.1)\n",
      "Requirement already satisfied: pyyaml>=5.1 in /opt/conda/lib/python3.10/site-packages (from transformers) (6.0)\n",
      "Requirement already satisfied: filelock in /opt/conda/lib/python3.10/site-packages (from transformers) (3.10.7)\n",
      "Requirement already satisfied: regex!=2019.12.17 in /opt/conda/lib/python3.10/site-packages (from transformers) (2023.3.23)\n",
      "Requirement already satisfied: typing-extensions>=3.7.4.3 in /opt/conda/lib/python3.10/site-packages (from huggingface-hub<1.0,>=0.11.0->transformers) (4.4.0)\n",
      "Requirement already satisfied: urllib3<1.27,>=1.21.1 in /opt/conda/lib/python3.10/site-packages (from requests->transformers) (1.26.14)\n",
      "Requirement already satisfied: certifi>=2017.4.17 in /opt/conda/lib/python3.10/site-packages (from requests->transformers) (2022.12.7)\n",
      "Requirement already satisfied: idna<4,>=2.5 in /opt/conda/lib/python3.10/site-packages (from requests->transformers) (3.4)\n",
      "Requirement already satisfied: charset-normalizer<4,>=2 in /opt/conda/lib/python3.10/site-packages (from requests->transformers) (2.1.1)\n"
     ]
    }
   ],
   "source": [
    "!pip install torch\n",
    "!pip install transformers"
   ]
  },
  {
   "cell_type": "code",
   "execution_count": 3,
   "id": "4d6a5b4d-e61b-45e3-8c29-6b2afb701b9f",
   "metadata": {},
   "outputs": [
    {
     "name": "stdout",
     "output_type": "stream",
     "text": [
      "Fri Mar 31 09:24:54 2023       \n",
      "+-----------------------------------------------------------------------------+\n",
      "| NVIDIA-SMI 510.108.03   Driver Version: 510.108.03   CUDA Version: 11.6     |\n",
      "|-------------------------------+----------------------+----------------------+\n",
      "| GPU  Name        Persistence-M| Bus-Id        Disp.A | Volatile Uncorr. ECC |\n",
      "| Fan  Temp  Perf  Pwr:Usage/Cap|         Memory-Usage | GPU-Util  Compute M. |\n",
      "|                               |                      |               MIG M. |\n",
      "|===============================+======================+======================|\n",
      "|   0  NVIDIA GeForce ...  Off  | 00000000:1B:00.0 Off |                  Off |\n",
      "|  0%   37C    P8    26W / 460W |   1693MiB / 24564MiB |      0%      Default |\n",
      "|                               |                      |                  N/A |\n",
      "+-------------------------------+----------------------+----------------------+\n",
      "|   1  NVIDIA GeForce ...  Off  | 00000000:1C:00.0 Off |                  N/A |\n",
      "| 27%   41C    P8    16W / 260W |   9065MiB / 11264MiB |      0%      Default |\n",
      "|                               |                      |                  N/A |\n",
      "+-------------------------------+----------------------+----------------------+\n",
      "|   2  NVIDIA GeForce ...  Off  | 00000000:1E:00.0 Off |                  N/A |\n",
      "| 27%   36C    P8     9W / 260W |      8MiB / 11264MiB |      0%      Default |\n",
      "|                               |                      |                  N/A |\n",
      "+-------------------------------+----------------------+----------------------+\n",
      "|   3  NVIDIA GeForce ...  Off  | 00000000:3F:00.0 Off |                  Off |\n",
      "|  0%   33C    P8    19W / 460W |      8MiB / 24564MiB |      0%      Default |\n",
      "|                               |                      |                  N/A |\n",
      "+-------------------------------+----------------------+----------------------+\n",
      "|   4  NVIDIA GeForce ...  Off  | 00000000:40:00.0 Off |                  Off |\n",
      "|  0%   36C    P8    28W / 460W |   8082MiB / 24564MiB |      0%      Default |\n",
      "|                               |                      |                  N/A |\n",
      "+-------------------------------+----------------------+----------------------+\n",
      "|   5  NVIDIA GeForce ...  Off  | 00000000:5E:00.0 Off |                  Off |\n",
      "| 30%   54C    P2   127W / 460W |   6845MiB / 24564MiB |     18%      Default |\n",
      "|                               |                      |                  N/A |\n",
      "+-------------------------------+----------------------+----------------------+\n",
      "                                                                               \n",
      "+-----------------------------------------------------------------------------+\n",
      "| Processes:                                                                  |\n",
      "|  GPU   GI   CI        PID   Type   Process name                  GPU Memory |\n",
      "|        ID   ID                                                   Usage      |\n",
      "|=============================================================================|\n",
      "+-----------------------------------------------------------------------------+\n"
     ]
    }
   ],
   "source": [
    "!nvidia-smi "
   ]
  },
  {
   "cell_type": "code",
   "execution_count": 4,
   "id": "ac429fe1-f25e-4494-a189-c58441376e76",
   "metadata": {},
   "outputs": [
    {
     "data": {
      "text/plain": [
       "'os.environ[\"CUDA_VISIBLE_DEVICES\"]=\"5\"'"
      ]
     },
     "execution_count": 4,
     "metadata": {},
     "output_type": "execute_result"
    }
   ],
   "source": [
    "from get_cuda_device import get_cuda_command\n",
    "\n",
    "get_cuda_command('cuda:2')"
   ]
  },
  {
   "cell_type": "code",
   "execution_count": 5,
   "id": "078519bc-f829-4c77-b997-aa40a18ca001",
   "metadata": {},
   "outputs": [],
   "source": [
    "import os\n",
    "os.environ[\"CUDA_VISIBLE_DEVICES\"]=\"5\""
   ]
  },
  {
   "cell_type": "code",
   "execution_count": 6,
   "id": "ae475c22-83e6-4e7c-84ce-67c0f8204deb",
   "metadata": {},
   "outputs": [
    {
     "name": "stdout",
     "output_type": "stream",
     "text": [
      "GPU\n"
     ]
    }
   ],
   "source": [
    "import torch \n",
    "\n",
    "if torch.cuda.is_available():\n",
    "    device='cuda'\n",
    "    print('GPU')\n",
    "else:\n",
    "    device='cpu'\n",
    "    print('CPU')\n",
    "    \n",
    "    \n",
    "SEED = 0\n",
    "torch.manual_seed(SEED)\n",
    "torch.cuda.manual_seed(SEED)"
   ]
  },
  {
   "cell_type": "markdown",
   "id": "d9855e4b-8b18-45a3-859e-8ca43e74a7b7",
   "metadata": {},
   "source": [
    "# Batch predict"
   ]
  },
  {
   "cell_type": "markdown",
   "id": "62440c44-12ee-4bbb-8a91-b9cc52cf5a52",
   "metadata": {
    "tags": []
   },
   "source": [
    "# Generation\n",
    "Each framework has a generate method for text generation implemented in their respective GenerationMixin class:\n",
    "\n",
    "PyTorch generate() is implemented in GenerationMixin.\n",
    "https://huggingface.co/docs/transformers/main/en/main_classes/text_generation"
   ]
  },
  {
   "cell_type": "markdown",
   "id": "fc244cf4-4976-4816-a2f2-fa5358ab015b",
   "metadata": {
    "tags": []
   },
   "source": [
    "## Parameters that control the length of the output\n",
    "\n",
    "**max_length (int, optional, defaults to 20)** — The maximum length the generated tokens can have. Corresponds to the length of the input prompt + max_new_tokens. Its effect is overridden by max_new_tokens, if also set.\n",
    "\n",
    "**max_new_tokens (int, optional)** — The maximum numbers of tokens to generate, ignoring the number of tokens in the prompt.\n",
    "\n",
    "**min_length (int, optional, defaults to 0)** — The minimum length of the sequence to be generated. Corresponds to the length of the input prompt + min_new_tokens. Its effect is overridden by min_new_tokens, if also set.\n",
    "\n",
    "**min_new_tokens (int, optional)** — The minimum numbers of tokens to generate, ignoring the number of tokens in the prompt.\n",
    "\n",
    "**early_stopping (bool or str, optional, defaults to False)** — Controls the stopping condition for beam-based methods, like beam-search. It accepts the following values: True, where the generation stops as soon as there are num_beams complete candidates; False, where an heuristic is applied and the generation stops when is it very unlikely to find better candidates; \"never\", where the beam search procedure only stops when there cannot be better candidates (canonical beam search algorithm).\n",
    "\n",
    "**max_time(float, optional)** — The maximum amount of time you allow the computation to run for in seconds. generation will still finish the current pass after allocated time has been passed."
   ]
  },
  {
   "cell_type": "markdown",
   "id": "04f97993-d95f-4f5f-91cc-dac0fd95ddf1",
   "metadata": {},
   "source": [
    "## Parameters that control the generation strategy used\n",
    "\n",
    "**do_sample (bool, optional, defaults to False)** — Whether or not to use sampling ; use greedy decoding otherwise.\n",
    "\n",
    "\n",
    "**num_beams (int, optional, defaults to 1)** — Number of beams for beam search. 1 means no beam search.\n",
    "\n",
    "**num_beam_groups (int, optional, defaults to 1)** — Number of groups to divide num_beams into in order to ensure diversity among different groups of beams.\n",
    "\n",
    "**penalty_alpha (float, optional)** — The values balance the model confidence and the degeneration penalty in contrastive search decoding.\n",
    "\n",
    "\n",
    "**use_cache (bool, optional, defaults to True)** — Whether or not the model should use the past last key/values attentions (if applicable to the model) to speed up decoding."
   ]
  },
  {
   "cell_type": "markdown",
   "id": "a77957d7-39a0-488e-ae93-bc3df70168d5",
   "metadata": {},
   "source": [
    "## Parameters for manipulation of the model output logits\n",
    "\n",
    "**temperature (float, optional, defaults to 1.0)** — The value used to modulate the next token probabilities.\n",
    "\n",
    "**top_k (int, optional, defaults to 50)** — The number of highest probability vocabulary tokens to keep for top-k-filtering.\n",
    "\n",
    "**top_p (float, optional, defaults to 1.0)** — If set to float < 1, only the smallest set of most probable tokens with probabilities that add up to top_p or higher are kept for generation.\n",
    "\n",
    "**typical_p (float, optional, defaults to 1.0)** — Local typicality measures how similar the conditional probability of predicting a target token next is to the expected conditional probability of predicting a random token next, given the partial text already generated. If set to float < 1, the smallest set of the most locally typical tokens with probabilities that add up to typical_p or higher are kept for generation.\n",
    "\n",
    "\n",
    "**epsilon_cutoff (float, optional, defaults to 0.0)** — If set to float strictly between 0 and 1, only tokens with a conditional probability greater than epsilon_cutoff will be sampled. In the paper, suggested values range from 3e-4 to 9e-4, depending on the size of the model. \n",
    "\n",
    "\n",
    "**eta_cutoff (float, optional, defaults to 0.0)** — Eta sampling is a hybrid of locally typical sampling and epsilon sampling. If set to float strictly between 0 and 1, a token is only considered if it is greater than either eta_cutoff or sqrt(eta_cutoff) * exp(-entropy(softmax(next_token_logits))). The latter term is intuitively the expected next token probability, scaled by sqrt(eta_cutoff). In the paper, suggested values range from 3e-4 to 2e-3, depending on the size of the model. \n",
    "\n",
    "**diversity_penalty (float, optional, defaults to 0.0)** — This value is subtracted from a beam’s score if it generates a token same as any beam from other group at a particular time. Note that diversity_penalty is only effective if group beam search is enabled.\n",
    "\n",
    "\n",
    "**repetition_penalty (float, optional, defaults to 1.0)** — The parameter for repetition penalty. 1.0 means no penalty.\n",
    "\n",
    "\n",
    "**encoder_repetition_penalty (float, optional, defaults to 1.0)** — The paramater for encoder_repetition_penalty. An exponential penalty on sequences that are not in the original input. 1.0 means no penalty.\n",
    "\n",
    "\n",
    "**length_penalty (float, optional, defaults to 1.0)** — Exponential penalty to the length that is used with beam-based generation. It is applied as an exponent to the sequence length, which in turn is used to divide the score of the sequence. Since the score is the log likelihood of the sequence (i.e. negative), length_penalty > 0.0 promotes longer sequences, while length_penalty < 0.0 encourages shorter sequences.\n",
    "\n",
    "**no_repeat_ngram_size (int, optional, defaults to 0)** — If set to int > 0, all ngrams of that size can only occur once.\n",
    "\n",
    "**bad_words_ids(List[List[int]], optional)** — List of token ids that are not allowed to be generated. In order to get the token ids of the words that should not appear in the generated text, use tokenizer(bad_words, add_prefix_space=True, add_special_tokens=False).input_ids.\n",
    "\n",
    "**force_words_ids(List[List[int]] or List[List[List[int]]], optional)** — List of token ids that must be generated. If given a List[List[int]], this is treated as a simple list of words that must be included, the opposite to bad_words_ids. If given List[List[List[int]]], this triggers a disjunctive constraint, where one can allow different forms of each word.\n",
    "\n",
    "**! renormalize_logits (bool, optional, defaults to False)** — Whether to renormalize the logits after applying all the logits processors or warpers (including the custom ones). It’s highly recommended to set this flag to True as the search algorithms suppose the score logits are normalized but some logit processors or warpers break the normalization.\n",
    "\n",
    "**constraints (List[Constraint], optional)** — Custom constraints that can be added to the generation to ensure that the output will contain the use of certain tokens as defined by Constraint objects, in the most sensible way possible.\n",
    "\n",
    "**forced_bos_token_id (int, optional, defaults to model.config.forced_bos_token_id)** — The id of the token to force as the first generated token after the decoder_start_token_id. Useful for multilingual models like mBART where the first generated token needs to be the target language token.\n",
    "\n",
    "**forced_eos_token_id (Union[int, List[int]], optional, defaults to model.config.forced_eos_token_id)** — The id of the token to force as the last generated token when max_length is reached. Optionally, use a list to set multiple end-of-sequence tokens.\n",
    "\n",
    "**remove_invalid_values (bool, optional, defaults to model.config.remove_invalid_values)** — Whether to remove possible nan and inf outputs of the model to prevent the generation method to crash. Note that using remove_invalid_values can slow down generation.\n",
    "\n",
    "**exponential_decay_length_penalty (tuple(int, float), optional)** — This Tuple adds an exponentially increasing length penalty, after a certain amount of tokens have been generated. The tuple shall consist of: (start_index, decay_factor) where start_index indicates where penalty starts and decay_factor represents the factor of exponential decay\n",
    "\n",
    "**suppress_tokens (List[int], optional)** — A list of tokens that will be suppressed at generation. The SupressTokens logit processor will set their log probs to -inf so that they are not sampled.\n",
    "\n",
    "**begin_suppress_tokens (List[int], optional)** — A list of tokens that will be suppressed at the beginning of the generation. The SupressBeginTokens logit processor will set their log probs to -inf so that they are not sampled.\n",
    "\n",
    "**forced_decoder_ids (List[List[int]], optional)** — A list of pairs of integers which indicates a mapping from generation indices to token indices that will be forced before sampling. For example, [[1, 123]] means the second generated token will always be a token of index 123."
   ]
  },
  {
   "cell_type": "markdown",
   "id": "0651031c-e2f5-444f-8c0b-efdd9e9af7b4",
   "metadata": {},
   "source": [
    "## Parameters that define the output variables of `generate`\n",
    "\n",
    "**num_return_sequences(int, optional, defaults to 1)** — The number of independently computed returned sequences for each element in the batch.\n",
    "\n",
    "**output_attentions (bool, optional, defaults to False)** — Whether or not to return the attentions tensors of all attention layers. \n",
    "\n",
    "**output_hidden_states (bool, optional, defaults to False)** — Whether or not to return the hidden states of all layers. \n",
    "\n",
    "**output_scores (bool, optional, defaults to False)** — Whether or not to return the prediction scores.\n",
    "\n",
    "**return_dict_in_generate (bool, optional, defaults to False)** — Whether or not to return a ModelOutput instead of a plain tuple."
   ]
  },
  {
   "cell_type": "markdown",
   "id": "9d4b055c-4927-4f54-9180-062a318e6da6",
   "metadata": {},
   "source": [
    "## Special tokens that can be used at generation time\n",
    "\n",
    "**pad_token_id (int, optional)** — The id of the padding token.\n",
    "\n",
    "**bos_token_id (int, optional)** — The id of the beginning-of-sequence token.\n",
    "\n",
    "**eos_token_id (Union[int, List[int]], optional)** — The id of the end-of-sequence token. Optionally, use a list to set multiple end-of-sequence tokens."
   ]
  },
  {
   "cell_type": "markdown",
   "id": "cf27bf5d-7b00-472e-a9fe-e7f177bb29a0",
   "metadata": {},
   "source": [
    "## Generation parameters exclusive to encoder-decoder models\n",
    "\n",
    "**encoder_no_repeat_ngram_size (int, optional, defaults to 0)** — If set to int > 0, all ngrams of that size that occur in the encoder_input_ids cannot occur in the decoder_input_ids.\n",
    "\n",
    "**decoder_start_token_id (int, optional)** — If an encoder-decoder model starts decoding with a different token than bos, the id of that token."
   ]
  },
  {
   "cell_type": "code",
   "execution_count": 7,
   "id": "8c6b35a9-023c-4ff8-8739-bc978c1a4be0",
   "metadata": {
    "tags": []
   },
   "outputs": [],
   "source": [
    "import numpy as np\n",
    "import torch\n",
    "\n",
    "from transformers import T5ForConditionalGeneration, AutoTokenizer\n",
    "from transformers import AutoModelForSeq2SeqLM, AutoTokenizer, AutoConfig\n",
    "\n",
    "\n",
    "from torch.utils.data import Dataset, DataLoader\n",
    "from transformers import Trainer, TrainingArguments\n",
    "from transformers.file_utils import cached_property\n",
    "from typing import Tuple\n",
    "from sklearn.model_selection import train_test_split\n",
    "import gc\n",
    "from tqdm.auto import tqdm, trange\n",
    "\n",
    "\n",
    "import pandas as pd\n",
    "from sklearn.utils import shuffle\n",
    "\n",
    "from collections import Counter\n",
    "from tqdm import tqdm\n",
    "import re"
   ]
  },
  {
   "cell_type": "markdown",
   "id": "b9a913f3-d530-4177-b1a6-97a87397db80",
   "metadata": {},
   "source": [
    "# model"
   ]
  },
  {
   "cell_type": "code",
   "execution_count": 8,
   "id": "9a898dda-42b4-4bff-b915-5095bb04cc4f",
   "metadata": {
    "tags": []
   },
   "outputs": [
    {
     "data": {
      "application/vnd.jupyter.widget-view+json": {
       "model_id": "4a8a082a89cc4614b0a34e9fc7a53033",
       "version_major": 2,
       "version_minor": 0
      },
      "text/plain": [
       "Downloading (…)lve/main/config.json:   0%|          | 0.00/1.21k [00:00<?, ?B/s]"
      ]
     },
     "metadata": {},
     "output_type": "display_data"
    },
    {
     "data": {
      "application/vnd.jupyter.widget-view+json": {
       "model_id": "1382ddb3a15e41108b4454d945ca6bae",
       "version_major": 2,
       "version_minor": 0
      },
      "text/plain": [
       "Downloading pytorch_model.bin:   0%|          | 0.00/2.95G [00:00<?, ?B/s]"
      ]
     },
     "metadata": {},
     "output_type": "display_data"
    },
    {
     "data": {
      "application/vnd.jupyter.widget-view+json": {
       "model_id": "6fd4576277fa41b49ae584b2b31812c7",
       "version_major": 2,
       "version_minor": 0
      },
      "text/plain": [
       "Downloading (…)neration_config.json:   0%|          | 0.00/147 [00:00<?, ?B/s]"
      ]
     },
     "metadata": {},
     "output_type": "display_data"
    },
    {
     "data": {
      "application/vnd.jupyter.widget-view+json": {
       "model_id": "862c0740f3a04678a9e1cc5560057a78",
       "version_major": 2,
       "version_minor": 0
      },
      "text/plain": [
       "Downloading (…)ve/main/spiece.model:   0%|          | 0.00/792k [00:00<?, ?B/s]"
      ]
     },
     "metadata": {},
     "output_type": "display_data"
    },
    {
     "data": {
      "application/vnd.jupyter.widget-view+json": {
       "model_id": "ab4ea3f7d00740cb868bc45edc2d18f5",
       "version_major": 2,
       "version_minor": 0
      },
      "text/plain": [
       "Downloading (…)/main/tokenizer.json:   0%|          | 0.00/1.39M [00:00<?, ?B/s]"
      ]
     },
     "metadata": {},
     "output_type": "display_data"
    },
    {
     "name": "stderr",
     "output_type": "stream",
     "text": [
      "/opt/conda/lib/python3.10/site-packages/transformers/models/t5/tokenization_t5_fast.py:155: FutureWarning: This tokenizer was incorrectly instantiated with a model max length of 512 which will be corrected in Transformers v5.\n",
      "For now, this behavior is kept to avoid breaking backwards compatibility when padding/encoding with `truncation is True`.\n",
      "- Be aware that you SHOULD NOT rely on t5-large automatically truncating your input to 512 when padding/encoding.\n",
      "- If you want to encode/pad to sequences longer than 512 you can either instantiate this tokenizer with `model_max_length` or pass `max_length` when encoding/padding.\n",
      "- To avoid this warning, please instantiate this tokenizer with `model_max_length` set to your preferred value.\n",
      "  warnings.warn(\n"
     ]
    }
   ],
   "source": [
    "from transformers import TrainingArguments, Trainer\n",
    "\n",
    "model_checkpoint = \"t5-large\"\n",
    "model = T5ForConditionalGeneration.from_pretrained(model_checkpoint).to(device)\n",
    "tokenizer = AutoTokenizer.from_pretrained(model_checkpoint)"
   ]
  },
  {
   "cell_type": "code",
   "execution_count": 9,
   "id": "b7ff9176-5ba7-418b-bde0-04b7ba167002",
   "metadata": {
    "tags": []
   },
   "outputs": [],
   "source": [
    "class PairsDataset(torch.utils.data.Dataset):\n",
    "    def __init__(self, x, y):\n",
    "        self.x = x\n",
    "        self.y = y\n",
    "\n",
    "    def __getitem__(self, idx):\n",
    "        assert idx <= len(self.x['input_ids']), (idx, len(self.x['input_ids']))\n",
    "        item = {key: val[idx] for key, val in self.x.items()}\n",
    "        item['decoder_attention_mask'] = self.y['attention_mask'][idx]\n",
    "        item['labels'] = self.y['input_ids'][idx]\n",
    "        return item\n",
    "    \n",
    "    @property\n",
    "    def n(self):\n",
    "        return len(self.x['input_ids'])\n",
    "\n",
    "    def __len__(self):\n",
    "        return self.n"
   ]
  },
  {
   "cell_type": "code",
   "execution_count": 10,
   "id": "87b3137b-4300-4c74-9822-6aaefce55e37",
   "metadata": {
    "tags": []
   },
   "outputs": [],
   "source": [
    "from typing import List, Dict, Union\n",
    "\n",
    "class DataCollatorWithPadding:\n",
    "    def __init__(self, tokenizer):\n",
    "        self.tokenizer = tokenizer\n",
    "\n",
    "    def __call__(self, features: List[Dict[str, Union[List[int], torch.Tensor]]]) -> Dict[str, torch.Tensor]:\n",
    "        batch = self.tokenizer.pad(\n",
    "            features,\n",
    "            padding=True,\n",
    "        )\n",
    "        ybatch = self.tokenizer.pad(\n",
    "            {'input_ids': batch['labels'], 'attention_mask': batch['decoder_attention_mask']},\n",
    "            padding=True,\n",
    "        ) \n",
    "        batch['labels'] = ybatch['input_ids']\n",
    "        batch['decoder_attention_mask'] = ybatch['attention_mask']\n",
    "        \n",
    "        return {k: torch.tensor(v) for k, v in batch.items()}"
   ]
  },
  {
   "cell_type": "code",
   "execution_count": 11,
   "id": "7ef1229c-d458-413c-acc9-2fb0221248b9",
   "metadata": {
    "tags": []
   },
   "outputs": [],
   "source": [
    "def cleanup():\n",
    "    gc.collect()\n",
    "    torch.cuda.empty_cache()\n",
    "    \n",
    "cleanup()"
   ]
  },
  {
   "cell_type": "code",
   "execution_count": 12,
   "id": "ce916472-8e8c-4436-8028-9fc1ec6ac61a",
   "metadata": {
    "tags": []
   },
   "outputs": [],
   "source": [
    "# def evaluate_model(model, test_dataloader):\n",
    "#     num = 0\n",
    "#     den = 0\n",
    "\n",
    "#     for batch in test_dataloader:\n",
    "#         with torch.no_grad():\n",
    "#             loss = model(**{k: v.to(model.device) for k, v in batch.items()}).loss\n",
    "#             num += len(batch) * loss.item()\n",
    "#             den += len(batch)\n",
    "#     val_loss = num / den\n",
    "#     return val_loss"
   ]
  },
  {
   "cell_type": "markdown",
   "id": "e6c063e4-fa59-487c-96a0-d9a8cf7f35f5",
   "metadata": {},
   "source": [
    "# **Read data SemEval2018-Task9**"
   ]
  },
  {
   "cell_type": "code",
   "execution_count": 13,
   "id": "c2344944-6187-49b1-bcb9-0f1b98c505ce",
   "metadata": {
    "tags": []
   },
   "outputs": [
    {
     "data": {
      "text/html": [
       "<div>\n",
       "<style scoped>\n",
       "    .dataframe tbody tr th:only-of-type {\n",
       "        vertical-align: middle;\n",
       "    }\n",
       "\n",
       "    .dataframe tbody tr th {\n",
       "        vertical-align: top;\n",
       "    }\n",
       "\n",
       "    .dataframe thead th {\n",
       "        text-align: right;\n",
       "    }\n",
       "</style>\n",
       "<table border=\"1\" class=\"dataframe\">\n",
       "  <thead>\n",
       "    <tr style=\"text-align: right;\">\n",
       "      <th></th>\n",
       "      <th>term</th>\n",
       "      <th>relation</th>\n",
       "    </tr>\n",
       "  </thead>\n",
       "  <tbody>\n",
       "    <tr>\n",
       "      <th>0</th>\n",
       "      <td>blackfly</td>\n",
       "      <td>Concept</td>\n",
       "    </tr>\n",
       "    <tr>\n",
       "      <th>1</th>\n",
       "      <td>Turonian</td>\n",
       "      <td>Entity</td>\n",
       "    </tr>\n",
       "    <tr>\n",
       "      <th>2</th>\n",
       "      <td>abhorrence</td>\n",
       "      <td>Concept</td>\n",
       "    </tr>\n",
       "    <tr>\n",
       "      <th>3</th>\n",
       "      <td>tropical storm</td>\n",
       "      <td>Concept</td>\n",
       "    </tr>\n",
       "    <tr>\n",
       "      <th>4</th>\n",
       "      <td>militarization</td>\n",
       "      <td>Concept</td>\n",
       "    </tr>\n",
       "  </tbody>\n",
       "</table>\n",
       "</div>"
      ],
      "text/plain": [
       "             term relation\n",
       "0        blackfly  Concept\n",
       "1        Turonian   Entity\n",
       "2      abhorrence  Concept\n",
       "3  tropical storm  Concept\n",
       "4  militarization  Concept"
      ]
     },
     "execution_count": 13,
     "metadata": {},
     "output_type": "execute_result"
    }
   ],
   "source": [
    "path = os.getcwd().replace('t5_params', '')\n",
    "\n",
    "path_data_en = path+\"SemEval2018-Task9/training/data/1A.english.training.data.txt\"\n",
    "path_gold_en = path+\"SemEval2018-Task9/training/gold/1A.english.training.gold.txt\"\n",
    "\n",
    "\n",
    "\n",
    "train_data_en_data = pd.read_csv(path_data_en, header=None, sep=\"\\t\", names=['term', 'relation'])\n",
    "train_gold_en_data = pd.read_csv(path_gold_en, header=None, names=['hypernym'])\n",
    "\n",
    "train_data_en_data.head()"
   ]
  },
  {
   "cell_type": "code",
   "execution_count": 14,
   "id": "129edda7-bf42-43e4-9fd0-7e55aa8bc714",
   "metadata": {
    "tags": []
   },
   "outputs": [],
   "source": [
    "path_test_data_en = path+\"SemEval2018-Task9/test/data/1A.english.test.data.txt\"\n",
    "path_test_gold_en = path+\"SemEval2018-Task9/test/gold/1A.english.test.gold.txt\"\n",
    "\n",
    "# choose6 600 words\n",
    "pd.read_csv(path_test_data_en, header=None, names=['hypernym'])[:600].to_csv('chosen_test_data_en.csv', header=None,)\n",
    "pd.read_csv(path_test_gold_en, header=None, names=['hypernym'])[:600].to_csv('chosen_test_gold_en.txt', header=None,)\n",
    "\n",
    "    \n",
    "test_data_en_data = pd.read_csv('chosen_test_data_en.csv', header=None, sep=\"\\t\", names=['term', 'relation'])\n",
    "test_gold_en_data = pd.read_csv('chosen_test_gold_en.txt', header=None, names=['hypernym'])"
   ]
  },
  {
   "cell_type": "code",
   "execution_count": 15,
   "id": "c626a99f-dcc7-44d3-b1cc-1150671d9133",
   "metadata": {
    "tags": []
   },
   "outputs": [],
   "source": [
    "def standard_preprcessing(train_features, train_target, test_features, test_target):\n",
    "    \n",
    "    train_data_en = train_features.copy()\n",
    "    train_data_en = 'hyperonym: ' + train_data_en.term + ' | hyponyms:'\n",
    "    print(train_data_en.head())\n",
    "\n",
    "    train_gold_en = train_target.copy()\n",
    "    train_gold_en = train_gold_en.hypernym.str.split('\\t').str.join(', ')\n",
    "    print(train_gold_en.head())\n",
    "    \n",
    "    test_data_en = test_features.copy()\n",
    "    test_data_en = 'hyperonym: ' + test_data_en.term + ' | hyponyms:'\n",
    "    print(test_data_en.head())\n",
    "\n",
    "    test_gold_en = test_target.copy()\n",
    "    test_gold_en = test_gold_en.hypernym.str.split('\\t').str.join(', ')\n",
    "    print(test_gold_en.head())\n",
    "    \n",
    "    return train_data_en, train_gold_en, test_data_en, test_gold_en\n"
   ]
  },
  {
   "cell_type": "code",
   "execution_count": 16,
   "id": "104ea460-4fcd-44c6-85f6-44af748bc722",
   "metadata": {
    "tags": []
   },
   "outputs": [
    {
     "name": "stdout",
     "output_type": "stream",
     "text": [
      "0          hyperonym: blackfly | hyponyms:\n",
      "1          hyperonym: Turonian | hyponyms:\n",
      "2        hyperonym: abhorrence | hyponyms:\n",
      "3    hyperonym: tropical storm | hyponyms:\n",
      "4    hyperonym: militarization | hyponyms:\n",
      "Name: term, dtype: object\n",
      "0                           homopterous insect, insect\n",
      "1    technical specification, geologic timescale, p...\n",
      "2                      distaste, hatred, hate, disgust\n",
      "3    atmosphere, windstorm, violent storm, air curr...\n",
      "4                                       social control\n",
      "Name: hypernym, dtype: object\n",
      "0    hyperonym: 0,maliciousness | hyponyms:\n",
      "1          hyperonym: 1,buckler | hyponyms:\n",
      "2        hyperonym: 2,spelunker | hyponyms:\n",
      "3     hyperonym: 3,quo warranto | hyponyms:\n",
      "4     hyperonym: 4,Jeff Francis | hyponyms:\n",
      "Name: term, dtype: object\n",
      "0       malevolence, distaste, hatred, hate, malignity\n",
      "1                                           body armor\n",
      "2                    exploration, adventurer, explorer\n",
      "3    proceedings, legal proceedings, proceeding, du...\n",
      "4               thrower, baseball player, jock, person\n",
      "Name: hypernym, dtype: object\n"
     ]
    }
   ],
   "source": [
    "train_data_en, train_gold_en, test_data_en, test_gold_en = standard_preprcessing(train_data_en_data, \n",
    "                                                                                 train_gold_en_data, \n",
    "                                                                                 test_data_en_data, \n",
    "                                                                                 test_gold_en_data)"
   ]
  },
  {
   "cell_type": "code",
   "execution_count": 17,
   "id": "c1c16177-34ba-44e2-91c6-94bcb23511a2",
   "metadata": {},
   "outputs": [],
   "source": [
    "# params = {\n",
    "#     'no_repeat_ngram_size': 2, \n",
    "#     'max_new_tokens': 100,\n",
    "#     'num_return_sequences': 20, \n",
    "#     'num_beams': 20, \n",
    "#     'early_stopping': True,\n",
    "#     'num_beam_groups': 5,\n",
    "#     'diversity_penalty': 1.0,\n",
    "#     'top_k':20,\n",
    "#     'repetition_penalty':0.5\n",
    "# }"
   ]
  },
  {
   "cell_type": "code",
   "execution_count": 18,
   "id": "d425797e-a08f-4a96-80a9-c7d65190ff59",
   "metadata": {},
   "outputs": [],
   "source": [
    "def predict_hyponyms(X, params):\n",
    "\n",
    "    input_ids = tokenizer.encode(X, return_tensors='pt') # encode\n",
    "\n",
    "    output_logit = model.generate(input_ids.to(device), **params) # generation\n",
    "\n",
    "    decoding = []\n",
    "    for logit in output_logit:\n",
    "        decoded_logit = tokenizer.decode(logit, skip_special_tokens=True).split(' ') #decode one logit\n",
    "        decoding.extend(decoded_logit)\n",
    "        \n",
    "    # remove punctuation and hyperonyms/hyponyms\n",
    "    regexp = re.compile('[A-Za-z]+')\n",
    "    decoding = [regexp.findall(token)[0] for token in decoding if len(regexp.findall(token)) > 0] \n",
    "    \n",
    "    # remove hyperonym and hyponym\n",
    "    docoded_results = set([token for token in decoding if token[:4].lower() not in ['hypo', 'hype']])\n",
    "\n",
    "    return list(docoded_results)"
   ]
  },
  {
   "cell_type": "code",
   "execution_count": 19,
   "id": "75a8ffb1-eb44-4435-bfde-8144afb76ca2",
   "metadata": {},
   "outputs": [],
   "source": [
    "def predict(test_data_en, test_gold_en, params):\n",
    "    \n",
    "#   make predictions for each hyponyms\n",
    "    test_pred_en=[]\n",
    "    for text in tqdm(test_data_en.tolist()):\n",
    "        pred_masked_token = predict_hyponyms(text, params)\n",
    "        test_pred_en.append('\\t'.join(pred_masked_token))\n",
    "            \n",
    "#   make txt format\n",
    "    name  = 'prediciton.txt'\n",
    "\n",
    "    test_pred_en_df = pd.DataFrame(test_pred_en)\n",
    "    test_pred_en_df.to_csv(name, header=None, index=None)"
   ]
  },
  {
   "cell_type": "code",
   "execution_count": 20,
   "id": "ab1e1f2a-370d-4bc7-9968-4a9166fd05f8",
   "metadata": {},
   "outputs": [],
   "source": [
    "from std_answers2table import answers\n",
    "from contextlib import redirect_stdout\n",
    "import io\n",
    "from tqdm import tqdm\n",
    "from IPython.display import clear_output\n",
    "\n",
    "\n"
   ]
  },
  {
   "cell_type": "code",
   "execution_count": null,
   "id": "75eb82f4-e35e-4fa9-9a48-93f1c02fad0a",
   "metadata": {},
   "outputs": [],
   "source": [
    "def plot(param)\n",
    "    table = pd.read_csv(param+'_params_result_table.csv').set_index(param)\n",
    "    plt.figure(figsize=(10, 5))\n",
    "    for metric in table.columns:\n",
    "        plt.plot(table.index, table[metric], label=metric)\n",
    "\n",
    "    plt.legend()   \n",
    "    plt.xlabel('num_beams')\n",
    "    plt.grid(True)\n",
    "\n",
    "    plt.show()"
   ]
  },
  {
   "cell_type": "code",
   "execution_count": 21,
   "id": "b5e85056-9eb7-4788-a415-9d5f4231c28c",
   "metadata": {
    "tags": []
   },
   "outputs": [],
   "source": [
    "def params_predict(param_values: list, name_stretegy):\n",
    "\n",
    "    main_table = []\n",
    "\n",
    "\n",
    "    for values in tqdm(param_values):\n",
    "\n",
    "      # Predict\n",
    "        predict(test_data_en, test_gold_en, values)\n",
    "\n",
    "    #   Metrics\n",
    "\n",
    "        f = io.StringIO()\n",
    "        with redirect_stdout(f):\n",
    "            !python /home/jovyan/work/debuged_task9-scorer.py chosen_test_gold_en.txt prediciton.txt\n",
    "\n",
    "\n",
    "        _std_out = f.getvalue()\n",
    "        _std_out = _std_out  + str(name_stretegy)\n",
    "        \n",
    "        _table = answers(_std_out, str(values[name_stretegy]), name_stretegy)\n",
    "        main_table.append(_table)\n",
    "\n",
    "\n",
    "        df = pd.concat(main_table)\n",
    "        df.to_csv(name_stretegy + '_params_result_table.csv')\n",
    "        clear_output()"
   ]
  },
  {
   "cell_type": "markdown",
   "id": "244e175e-6772-4aa6-b910-8fd55533cfca",
   "metadata": {
    "tags": []
   },
   "source": [
    "## max_length"
   ]
  },
  {
   "cell_type": "code",
   "execution_count": 22,
   "id": "28ca8fa2-503e-486f-9408-8c5f20e67c44",
   "metadata": {},
   "outputs": [
    {
     "data": {
      "text/plain": [
       "[{'max_length': 100, 'num_beams': 5, 'early_stopping': True},\n",
       " {'max_length': 422, 'num_beams': 5, 'early_stopping': True},\n",
       " {'max_length': 744, 'num_beams': 5, 'early_stopping': True},\n",
       " {'max_length': 1066, 'num_beams': 5, 'early_stopping': True},\n",
       " {'max_length': 1388, 'num_beams': 5, 'early_stopping': True},\n",
       " {'max_length': 1711, 'num_beams': 5, 'early_stopping': True},\n",
       " {'max_length': 2033, 'num_beams': 5, 'early_stopping': True},\n",
       " {'max_length': 2355, 'num_beams': 5, 'early_stopping': True},\n",
       " {'max_length': 2677, 'num_beams': 5, 'early_stopping': True},\n",
       " {'max_length': 3000, 'num_beams': 5, 'early_stopping': True}]"
      ]
     },
     "execution_count": 22,
     "metadata": {},
     "output_type": "execute_result"
    }
   ],
   "source": [
    "param_values = [{'max_length':int(i), 'num_beams': 5, 'early_stopping':True} for i in np.linspace(100, 3000, 10)]\n",
    "param_values"
   ]
  },
  {
   "cell_type": "code",
   "execution_count": 23,
   "id": "368f7cb7-2cce-4da0-b8fd-d1dd1217ff43",
   "metadata": {
    "tags": []
   },
   "outputs": [
    {
     "name": "stderr",
     "output_type": "stream",
     "text": [
      "100%|████████████████████████████████████████████████████████████████████████████████| 10/10 [1:13:14<00:00, 439.48s/it]"
     ]
    },
    {
     "name": "stdout",
     "output_type": "stream",
     "text": [
      "CPU times: user 1h 13min 8s, sys: 4.73 s, total: 1h 13min 13s\n",
      "Wall time: 1h 13min 14s\n"
     ]
    },
    {
     "name": "stderr",
     "output_type": "stream",
     "text": [
      "\n"
     ]
    },
    {
     "data": {
      "text/html": [
       "<div>\n",
       "<style scoped>\n",
       "    .dataframe tbody tr th:only-of-type {\n",
       "        vertical-align: middle;\n",
       "    }\n",
       "\n",
       "    .dataframe tbody tr th {\n",
       "        vertical-align: top;\n",
       "    }\n",
       "\n",
       "    .dataframe thead th {\n",
       "        text-align: right;\n",
       "    }\n",
       "</style>\n",
       "<table border=\"1\" class=\"dataframe\">\n",
       "  <thead>\n",
       "    <tr style=\"text-align: right;\">\n",
       "      <th></th>\n",
       "      <th>max_length</th>\n",
       "      <th>MRR</th>\n",
       "      <th>MAP</th>\n",
       "      <th>P@1</th>\n",
       "      <th>P@3</th>\n",
       "      <th>P@5</th>\n",
       "      <th>P@15</th>\n",
       "    </tr>\n",
       "  </thead>\n",
       "  <tbody>\n",
       "    <tr>\n",
       "      <th>0</th>\n",
       "      <td>100</td>\n",
       "      <td>0.02333</td>\n",
       "      <td>0.01217</td>\n",
       "      <td>0.015</td>\n",
       "      <td>0.01333</td>\n",
       "      <td>0.01194</td>\n",
       "      <td>0.01155</td>\n",
       "    </tr>\n",
       "    <tr>\n",
       "      <th>1</th>\n",
       "      <td>422</td>\n",
       "      <td>0.02333</td>\n",
       "      <td>0.01217</td>\n",
       "      <td>0.015</td>\n",
       "      <td>0.01333</td>\n",
       "      <td>0.01194</td>\n",
       "      <td>0.01155</td>\n",
       "    </tr>\n",
       "    <tr>\n",
       "      <th>2</th>\n",
       "      <td>744</td>\n",
       "      <td>0.02333</td>\n",
       "      <td>0.01217</td>\n",
       "      <td>0.015</td>\n",
       "      <td>0.01333</td>\n",
       "      <td>0.01194</td>\n",
       "      <td>0.01155</td>\n",
       "    </tr>\n",
       "    <tr>\n",
       "      <th>3</th>\n",
       "      <td>1066</td>\n",
       "      <td>0.02333</td>\n",
       "      <td>0.01217</td>\n",
       "      <td>0.015</td>\n",
       "      <td>0.01333</td>\n",
       "      <td>0.01194</td>\n",
       "      <td>0.01155</td>\n",
       "    </tr>\n",
       "    <tr>\n",
       "      <th>4</th>\n",
       "      <td>1388</td>\n",
       "      <td>0.02333</td>\n",
       "      <td>0.01217</td>\n",
       "      <td>0.015</td>\n",
       "      <td>0.01333</td>\n",
       "      <td>0.01194</td>\n",
       "      <td>0.01155</td>\n",
       "    </tr>\n",
       "    <tr>\n",
       "      <th>5</th>\n",
       "      <td>1711</td>\n",
       "      <td>0.02333</td>\n",
       "      <td>0.01217</td>\n",
       "      <td>0.015</td>\n",
       "      <td>0.01333</td>\n",
       "      <td>0.01194</td>\n",
       "      <td>0.01155</td>\n",
       "    </tr>\n",
       "    <tr>\n",
       "      <th>6</th>\n",
       "      <td>2033</td>\n",
       "      <td>0.02333</td>\n",
       "      <td>0.01217</td>\n",
       "      <td>0.015</td>\n",
       "      <td>0.01333</td>\n",
       "      <td>0.01194</td>\n",
       "      <td>0.01155</td>\n",
       "    </tr>\n",
       "    <tr>\n",
       "      <th>7</th>\n",
       "      <td>2355</td>\n",
       "      <td>0.02333</td>\n",
       "      <td>0.01217</td>\n",
       "      <td>0.015</td>\n",
       "      <td>0.01333</td>\n",
       "      <td>0.01194</td>\n",
       "      <td>0.01155</td>\n",
       "    </tr>\n",
       "    <tr>\n",
       "      <th>8</th>\n",
       "      <td>2677</td>\n",
       "      <td>0.02333</td>\n",
       "      <td>0.01217</td>\n",
       "      <td>0.015</td>\n",
       "      <td>0.01333</td>\n",
       "      <td>0.01194</td>\n",
       "      <td>0.01155</td>\n",
       "    </tr>\n",
       "    <tr>\n",
       "      <th>9</th>\n",
       "      <td>3000</td>\n",
       "      <td>0.02333</td>\n",
       "      <td>0.01217</td>\n",
       "      <td>0.015</td>\n",
       "      <td>0.01333</td>\n",
       "      <td>0.01194</td>\n",
       "      <td>0.01155</td>\n",
       "    </tr>\n",
       "  </tbody>\n",
       "</table>\n",
       "</div>"
      ],
      "text/plain": [
       "   max_length      MRR      MAP    P@1      P@3      P@5     P@15\n",
       "0         100  0.02333  0.01217  0.015  0.01333  0.01194  0.01155\n",
       "1         422  0.02333  0.01217  0.015  0.01333  0.01194  0.01155\n",
       "2         744  0.02333  0.01217  0.015  0.01333  0.01194  0.01155\n",
       "3        1066  0.02333  0.01217  0.015  0.01333  0.01194  0.01155\n",
       "4        1388  0.02333  0.01217  0.015  0.01333  0.01194  0.01155\n",
       "5        1711  0.02333  0.01217  0.015  0.01333  0.01194  0.01155\n",
       "6        2033  0.02333  0.01217  0.015  0.01333  0.01194  0.01155\n",
       "7        2355  0.02333  0.01217  0.015  0.01333  0.01194  0.01155\n",
       "8        2677  0.02333  0.01217  0.015  0.01333  0.01194  0.01155\n",
       "9        3000  0.02333  0.01217  0.015  0.01333  0.01194  0.01155"
      ]
     },
     "execution_count": 23,
     "metadata": {},
     "output_type": "execute_result"
    }
   ],
   "source": [
    "%%time\n",
    "params_predict(param_values, 'max_length')\n",
    "\n",
    "pd.read_csv('max_length_params_result_table.csv')"
   ]
  },
  {
   "cell_type": "markdown",
   "id": "88bfba30-cd2e-487c-b567-f3ffb852f76a",
   "metadata": {},
   "source": [
    "## num_beams"
   ]
  },
  {
   "cell_type": "code",
   "execution_count": 24,
   "id": "ec258967-3cec-4234-82b5-00fd474b3209",
   "metadata": {},
   "outputs": [
    {
     "data": {
      "text/plain": [
       "[{'max_length': 2048, 'num_beams': 1, 'early_stopping': True},\n",
       " {'max_length': 2048, 'num_beams': 2, 'early_stopping': True},\n",
       " {'max_length': 2048, 'num_beams': 3, 'early_stopping': True},\n",
       " {'max_length': 2048, 'num_beams': 4, 'early_stopping': True},\n",
       " {'max_length': 2048, 'num_beams': 5, 'early_stopping': True},\n",
       " {'max_length': 2048, 'num_beams': 6, 'early_stopping': True},\n",
       " {'max_length': 2048, 'num_beams': 7, 'early_stopping': True},\n",
       " {'max_length': 2048, 'num_beams': 8, 'early_stopping': True},\n",
       " {'max_length': 2048, 'num_beams': 9, 'early_stopping': True},\n",
       " {'max_length': 2048, 'num_beams': 10, 'early_stopping': True}]"
      ]
     },
     "execution_count": 24,
     "metadata": {},
     "output_type": "execute_result"
    }
   ],
   "source": [
    "param_values = [{'max_length':2048, 'num_beams': int(i), 'early_stopping':True} for i in np.linspace(1, 10, 10)]\n",
    "param_values"
   ]
  },
  {
   "cell_type": "code",
   "execution_count": 25,
   "id": "f0e8889a-c637-4ff6-9501-37b4821c868c",
   "metadata": {},
   "outputs": [
    {
     "name": "stderr",
     "output_type": "stream",
     "text": [
      "100%|████████████████████████████████████████████████████████████████████████████████| 10/10 [1:22:44<00:00, 496.50s/it]"
     ]
    },
    {
     "name": "stdout",
     "output_type": "stream",
     "text": [
      "CPU times: user 1h 22min 38s, sys: 5.67 s, total: 1h 22min 44s\n",
      "Wall time: 1h 22min 44s\n"
     ]
    },
    {
     "name": "stderr",
     "output_type": "stream",
     "text": [
      "\n"
     ]
    },
    {
     "data": {
      "text/html": [
       "<div>\n",
       "<style scoped>\n",
       "    .dataframe tbody tr th:only-of-type {\n",
       "        vertical-align: middle;\n",
       "    }\n",
       "\n",
       "    .dataframe tbody tr th {\n",
       "        vertical-align: top;\n",
       "    }\n",
       "\n",
       "    .dataframe thead th {\n",
       "        text-align: right;\n",
       "    }\n",
       "</style>\n",
       "<table border=\"1\" class=\"dataframe\">\n",
       "  <thead>\n",
       "    <tr style=\"text-align: right;\">\n",
       "      <th></th>\n",
       "      <th>num_beams</th>\n",
       "      <th>MRR</th>\n",
       "      <th>MAP</th>\n",
       "      <th>P@1</th>\n",
       "      <th>P@3</th>\n",
       "      <th>P@5</th>\n",
       "      <th>P@15</th>\n",
       "    </tr>\n",
       "  </thead>\n",
       "  <tbody>\n",
       "    <tr>\n",
       "      <th>0</th>\n",
       "      <td>1</td>\n",
       "      <td>0.02500</td>\n",
       "      <td>0.01287</td>\n",
       "      <td>0.01833</td>\n",
       "      <td>0.01361</td>\n",
       "      <td>0.01244</td>\n",
       "      <td>0.01215</td>\n",
       "    </tr>\n",
       "    <tr>\n",
       "      <th>1</th>\n",
       "      <td>2</td>\n",
       "      <td>0.02500</td>\n",
       "      <td>0.01305</td>\n",
       "      <td>0.01667</td>\n",
       "      <td>0.01389</td>\n",
       "      <td>0.01272</td>\n",
       "      <td>0.01242</td>\n",
       "    </tr>\n",
       "    <tr>\n",
       "      <th>2</th>\n",
       "      <td>3</td>\n",
       "      <td>0.02333</td>\n",
       "      <td>0.01243</td>\n",
       "      <td>0.01500</td>\n",
       "      <td>0.01333</td>\n",
       "      <td>0.01217</td>\n",
       "      <td>0.01192</td>\n",
       "    </tr>\n",
       "    <tr>\n",
       "      <th>3</th>\n",
       "      <td>4</td>\n",
       "      <td>0.02500</td>\n",
       "      <td>0.01282</td>\n",
       "      <td>0.01667</td>\n",
       "      <td>0.01389</td>\n",
       "      <td>0.01250</td>\n",
       "      <td>0.01211</td>\n",
       "    </tr>\n",
       "    <tr>\n",
       "      <th>4</th>\n",
       "      <td>5</td>\n",
       "      <td>0.02333</td>\n",
       "      <td>0.01217</td>\n",
       "      <td>0.01500</td>\n",
       "      <td>0.01333</td>\n",
       "      <td>0.01194</td>\n",
       "      <td>0.01155</td>\n",
       "    </tr>\n",
       "    <tr>\n",
       "      <th>5</th>\n",
       "      <td>6</td>\n",
       "      <td>0.02500</td>\n",
       "      <td>0.01282</td>\n",
       "      <td>0.01667</td>\n",
       "      <td>0.01389</td>\n",
       "      <td>0.01250</td>\n",
       "      <td>0.01211</td>\n",
       "    </tr>\n",
       "    <tr>\n",
       "      <th>6</th>\n",
       "      <td>7</td>\n",
       "      <td>0.02833</td>\n",
       "      <td>0.01408</td>\n",
       "      <td>0.02000</td>\n",
       "      <td>0.01528</td>\n",
       "      <td>0.01367</td>\n",
       "      <td>0.01309</td>\n",
       "    </tr>\n",
       "    <tr>\n",
       "      <th>7</th>\n",
       "      <td>8</td>\n",
       "      <td>0.03000</td>\n",
       "      <td>0.01473</td>\n",
       "      <td>0.02167</td>\n",
       "      <td>0.01583</td>\n",
       "      <td>0.01422</td>\n",
       "      <td>0.01365</td>\n",
       "    </tr>\n",
       "    <tr>\n",
       "      <th>8</th>\n",
       "      <td>9</td>\n",
       "      <td>0.03000</td>\n",
       "      <td>0.01473</td>\n",
       "      <td>0.02167</td>\n",
       "      <td>0.01583</td>\n",
       "      <td>0.01422</td>\n",
       "      <td>0.01365</td>\n",
       "    </tr>\n",
       "    <tr>\n",
       "      <th>9</th>\n",
       "      <td>10</td>\n",
       "      <td>0.03083</td>\n",
       "      <td>0.01484</td>\n",
       "      <td>0.02333</td>\n",
       "      <td>0.01583</td>\n",
       "      <td>0.01422</td>\n",
       "      <td>0.01365</td>\n",
       "    </tr>\n",
       "  </tbody>\n",
       "</table>\n",
       "</div>"
      ],
      "text/plain": [
       "   num_beams      MRR      MAP      P@1      P@3      P@5     P@15\n",
       "0          1  0.02500  0.01287  0.01833  0.01361  0.01244  0.01215\n",
       "1          2  0.02500  0.01305  0.01667  0.01389  0.01272  0.01242\n",
       "2          3  0.02333  0.01243  0.01500  0.01333  0.01217  0.01192\n",
       "3          4  0.02500  0.01282  0.01667  0.01389  0.01250  0.01211\n",
       "4          5  0.02333  0.01217  0.01500  0.01333  0.01194  0.01155\n",
       "5          6  0.02500  0.01282  0.01667  0.01389  0.01250  0.01211\n",
       "6          7  0.02833  0.01408  0.02000  0.01528  0.01367  0.01309\n",
       "7          8  0.03000  0.01473  0.02167  0.01583  0.01422  0.01365\n",
       "8          9  0.03000  0.01473  0.02167  0.01583  0.01422  0.01365\n",
       "9         10  0.03083  0.01484  0.02333  0.01583  0.01422  0.01365"
      ]
     },
     "execution_count": 25,
     "metadata": {},
     "output_type": "execute_result"
    }
   ],
   "source": [
    "%%time\n",
    "params_predict(param_values, 'num_beams')\n",
    "\n",
    "pd.read_csv('num_beams_params_result_table.csv')"
   ]
  },
  {
   "cell_type": "markdown",
   "id": "b3c3c612-4172-4ede-a734-141957f46dee",
   "metadata": {},
   "source": [
    "## Sampling"
   ]
  },
  {
   "cell_type": "code",
   "execution_count": 26,
   "id": "26e0fd0c-59ad-48a8-8e51-968a5ac84f1c",
   "metadata": {},
   "outputs": [
    {
     "data": {
      "text/plain": [
       "[{'max_length': 2048,\n",
       "  'num_beams': 50,\n",
       "  'early_stopping': True,\n",
       "  'do_sample': True},\n",
       " {'max_length': 2048,\n",
       "  'num_beams': 50,\n",
       "  'early_stopping': True,\n",
       "  'do_sample': False}]"
      ]
     },
     "execution_count": 26,
     "metadata": {},
     "output_type": "execute_result"
    }
   ],
   "source": [
    "param_values = [{'max_length':2048, 'num_beams': 50, 'early_stopping':True, 'do_sample': x} for x in [True, False]]\n",
    "param_values"
   ]
  },
  {
   "cell_type": "code",
   "execution_count": 27,
   "id": "cbfded6b-1308-4fc1-85ab-139f0447e2bb",
   "metadata": {},
   "outputs": [
    {
     "name": "stderr",
     "output_type": "stream",
     "text": [
      "100%|████████████████████████████████████████████████████████████████████████████████████| 2/2 [18:15<00:00, 547.85s/it]"
     ]
    },
    {
     "name": "stdout",
     "output_type": "stream",
     "text": [
      "CPU times: user 18min 14s, sys: 1.56 s, total: 18min 15s\n",
      "Wall time: 18min 15s\n"
     ]
    },
    {
     "name": "stderr",
     "output_type": "stream",
     "text": [
      "\n"
     ]
    },
    {
     "data": {
      "text/html": [
       "<div>\n",
       "<style scoped>\n",
       "    .dataframe tbody tr th:only-of-type {\n",
       "        vertical-align: middle;\n",
       "    }\n",
       "\n",
       "    .dataframe tbody tr th {\n",
       "        vertical-align: top;\n",
       "    }\n",
       "\n",
       "    .dataframe thead th {\n",
       "        text-align: right;\n",
       "    }\n",
       "</style>\n",
       "<table border=\"1\" class=\"dataframe\">\n",
       "  <thead>\n",
       "    <tr style=\"text-align: right;\">\n",
       "      <th></th>\n",
       "      <th>do_sample</th>\n",
       "      <th>MRR</th>\n",
       "      <th>MAP</th>\n",
       "      <th>P@1</th>\n",
       "      <th>P@3</th>\n",
       "      <th>P@5</th>\n",
       "      <th>P@15</th>\n",
       "    </tr>\n",
       "  </thead>\n",
       "  <tbody>\n",
       "    <tr>\n",
       "      <th>0</th>\n",
       "      <td>True</td>\n",
       "      <td>0.02667</td>\n",
       "      <td>0.01347</td>\n",
       "      <td>0.01833</td>\n",
       "      <td>0.01444</td>\n",
       "      <td>0.01306</td>\n",
       "      <td>0.01266</td>\n",
       "    </tr>\n",
       "    <tr>\n",
       "      <th>1</th>\n",
       "      <td>False</td>\n",
       "      <td>0.03083</td>\n",
       "      <td>0.01516</td>\n",
       "      <td>0.02167</td>\n",
       "      <td>0.01639</td>\n",
       "      <td>0.01464</td>\n",
       "      <td>0.01406</td>\n",
       "    </tr>\n",
       "  </tbody>\n",
       "</table>\n",
       "</div>"
      ],
      "text/plain": [
       "   do_sample      MRR      MAP      P@1      P@3      P@5     P@15\n",
       "0       True  0.02667  0.01347  0.01833  0.01444  0.01306  0.01266\n",
       "1      False  0.03083  0.01516  0.02167  0.01639  0.01464  0.01406"
      ]
     },
     "execution_count": 27,
     "metadata": {},
     "output_type": "execute_result"
    }
   ],
   "source": [
    "%%time\n",
    "params_predict(param_values, 'do_sample')\n",
    "\n",
    "pd.read_csv('do_sample_params_result_table.csv')"
   ]
  },
  {
   "cell_type": "markdown",
   "id": "d4911800-0070-4c30-a93a-c22e488bb780",
   "metadata": {},
   "source": [
    "## temperature"
   ]
  },
  {
   "cell_type": "code",
   "execution_count": 28,
   "id": "98c2fa07-365a-4d97-9df6-c5f6d36e1d92",
   "metadata": {},
   "outputs": [
    {
     "data": {
      "text/plain": [
       "[{'max_length': 2048,\n",
       "  'num_beams': 50,\n",
       "  'early_stopping': True,\n",
       "  'temperature': 0.5},\n",
       " {'max_length': 2048,\n",
       "  'num_beams': 50,\n",
       "  'early_stopping': True,\n",
       "  'temperature': 1.5555555555555556},\n",
       " {'max_length': 2048,\n",
       "  'num_beams': 50,\n",
       "  'early_stopping': True,\n",
       "  'temperature': 2.611111111111111},\n",
       " {'max_length': 2048,\n",
       "  'num_beams': 50,\n",
       "  'early_stopping': True,\n",
       "  'temperature': 3.666666666666667},\n",
       " {'max_length': 2048,\n",
       "  'num_beams': 50,\n",
       "  'early_stopping': True,\n",
       "  'temperature': 4.722222222222222},\n",
       " {'max_length': 2048,\n",
       "  'num_beams': 50,\n",
       "  'early_stopping': True,\n",
       "  'temperature': 5.777777777777778},\n",
       " {'max_length': 2048,\n",
       "  'num_beams': 50,\n",
       "  'early_stopping': True,\n",
       "  'temperature': 6.833333333333334},\n",
       " {'max_length': 2048,\n",
       "  'num_beams': 50,\n",
       "  'early_stopping': True,\n",
       "  'temperature': 7.888888888888889},\n",
       " {'max_length': 2048,\n",
       "  'num_beams': 50,\n",
       "  'early_stopping': True,\n",
       "  'temperature': 8.944444444444445},\n",
       " {'max_length': 2048,\n",
       "  'num_beams': 50,\n",
       "  'early_stopping': True,\n",
       "  'temperature': 10.0}]"
      ]
     },
     "execution_count": 28,
     "metadata": {},
     "output_type": "execute_result"
    }
   ],
   "source": [
    "param_values = [{'max_length':2048, 'num_beams': 50, 'early_stopping':True,\n",
    "                 'temperature': i\n",
    "                } for i in np.linspace(0.5, 10, 10)]\n",
    "param_values"
   ]
  },
  {
   "cell_type": "code",
   "execution_count": 29,
   "id": "ac5aadcb-5031-410e-8bbf-7d079cf1b0d7",
   "metadata": {},
   "outputs": [
    {
     "name": "stderr",
     "output_type": "stream",
     "text": [
      "100%|████████████████████████████████████████████████████████████████████████████████| 10/10 [1:26:33<00:00, 519.32s/it]"
     ]
    },
    {
     "name": "stdout",
     "output_type": "stream",
     "text": [
      "CPU times: user 1h 26min 27s, sys: 5.66 s, total: 1h 26min 32s\n",
      "Wall time: 1h 26min 33s\n"
     ]
    },
    {
     "name": "stderr",
     "output_type": "stream",
     "text": [
      "\n"
     ]
    },
    {
     "data": {
      "text/html": [
       "<div>\n",
       "<style scoped>\n",
       "    .dataframe tbody tr th:only-of-type {\n",
       "        vertical-align: middle;\n",
       "    }\n",
       "\n",
       "    .dataframe tbody tr th {\n",
       "        vertical-align: top;\n",
       "    }\n",
       "\n",
       "    .dataframe thead th {\n",
       "        text-align: right;\n",
       "    }\n",
       "</style>\n",
       "<table border=\"1\" class=\"dataframe\">\n",
       "  <thead>\n",
       "    <tr style=\"text-align: right;\">\n",
       "      <th></th>\n",
       "      <th>temperature</th>\n",
       "      <th>MRR</th>\n",
       "      <th>MAP</th>\n",
       "      <th>P@1</th>\n",
       "      <th>P@3</th>\n",
       "      <th>P@5</th>\n",
       "      <th>P@15</th>\n",
       "    </tr>\n",
       "  </thead>\n",
       "  <tbody>\n",
       "    <tr>\n",
       "      <th>0</th>\n",
       "      <td>0.500000</td>\n",
       "      <td>0.03083</td>\n",
       "      <td>0.01516</td>\n",
       "      <td>0.02167</td>\n",
       "      <td>0.01639</td>\n",
       "      <td>0.01464</td>\n",
       "      <td>0.01406</td>\n",
       "    </tr>\n",
       "    <tr>\n",
       "      <th>1</th>\n",
       "      <td>1.555556</td>\n",
       "      <td>0.03083</td>\n",
       "      <td>0.01516</td>\n",
       "      <td>0.02167</td>\n",
       "      <td>0.01639</td>\n",
       "      <td>0.01464</td>\n",
       "      <td>0.01406</td>\n",
       "    </tr>\n",
       "    <tr>\n",
       "      <th>2</th>\n",
       "      <td>2.611111</td>\n",
       "      <td>0.03083</td>\n",
       "      <td>0.01516</td>\n",
       "      <td>0.02167</td>\n",
       "      <td>0.01639</td>\n",
       "      <td>0.01464</td>\n",
       "      <td>0.01406</td>\n",
       "    </tr>\n",
       "    <tr>\n",
       "      <th>3</th>\n",
       "      <td>3.666667</td>\n",
       "      <td>0.03083</td>\n",
       "      <td>0.01516</td>\n",
       "      <td>0.02167</td>\n",
       "      <td>0.01639</td>\n",
       "      <td>0.01464</td>\n",
       "      <td>0.01406</td>\n",
       "    </tr>\n",
       "    <tr>\n",
       "      <th>4</th>\n",
       "      <td>4.722222</td>\n",
       "      <td>0.03083</td>\n",
       "      <td>0.01516</td>\n",
       "      <td>0.02167</td>\n",
       "      <td>0.01639</td>\n",
       "      <td>0.01464</td>\n",
       "      <td>0.01406</td>\n",
       "    </tr>\n",
       "    <tr>\n",
       "      <th>5</th>\n",
       "      <td>5.777778</td>\n",
       "      <td>0.03083</td>\n",
       "      <td>0.01516</td>\n",
       "      <td>0.02167</td>\n",
       "      <td>0.01639</td>\n",
       "      <td>0.01464</td>\n",
       "      <td>0.01406</td>\n",
       "    </tr>\n",
       "    <tr>\n",
       "      <th>6</th>\n",
       "      <td>6.833333</td>\n",
       "      <td>0.03083</td>\n",
       "      <td>0.01516</td>\n",
       "      <td>0.02167</td>\n",
       "      <td>0.01639</td>\n",
       "      <td>0.01464</td>\n",
       "      <td>0.01406</td>\n",
       "    </tr>\n",
       "    <tr>\n",
       "      <th>7</th>\n",
       "      <td>7.888889</td>\n",
       "      <td>0.03083</td>\n",
       "      <td>0.01516</td>\n",
       "      <td>0.02167</td>\n",
       "      <td>0.01639</td>\n",
       "      <td>0.01464</td>\n",
       "      <td>0.01406</td>\n",
       "    </tr>\n",
       "    <tr>\n",
       "      <th>8</th>\n",
       "      <td>8.944444</td>\n",
       "      <td>0.03083</td>\n",
       "      <td>0.01516</td>\n",
       "      <td>0.02167</td>\n",
       "      <td>0.01639</td>\n",
       "      <td>0.01464</td>\n",
       "      <td>0.01406</td>\n",
       "    </tr>\n",
       "    <tr>\n",
       "      <th>9</th>\n",
       "      <td>10.000000</td>\n",
       "      <td>0.03083</td>\n",
       "      <td>0.01516</td>\n",
       "      <td>0.02167</td>\n",
       "      <td>0.01639</td>\n",
       "      <td>0.01464</td>\n",
       "      <td>0.01406</td>\n",
       "    </tr>\n",
       "  </tbody>\n",
       "</table>\n",
       "</div>"
      ],
      "text/plain": [
       "   temperature      MRR      MAP      P@1      P@3      P@5     P@15\n",
       "0     0.500000  0.03083  0.01516  0.02167  0.01639  0.01464  0.01406\n",
       "1     1.555556  0.03083  0.01516  0.02167  0.01639  0.01464  0.01406\n",
       "2     2.611111  0.03083  0.01516  0.02167  0.01639  0.01464  0.01406\n",
       "3     3.666667  0.03083  0.01516  0.02167  0.01639  0.01464  0.01406\n",
       "4     4.722222  0.03083  0.01516  0.02167  0.01639  0.01464  0.01406\n",
       "5     5.777778  0.03083  0.01516  0.02167  0.01639  0.01464  0.01406\n",
       "6     6.833333  0.03083  0.01516  0.02167  0.01639  0.01464  0.01406\n",
       "7     7.888889  0.03083  0.01516  0.02167  0.01639  0.01464  0.01406\n",
       "8     8.944444  0.03083  0.01516  0.02167  0.01639  0.01464  0.01406\n",
       "9    10.000000  0.03083  0.01516  0.02167  0.01639  0.01464  0.01406"
      ]
     },
     "execution_count": 29,
     "metadata": {},
     "output_type": "execute_result"
    }
   ],
   "source": [
    "%%time\n",
    "params_predict(param_values, 'temperature')\n",
    "\n",
    "pd.read_csv('temperature_params_result_table.csv')"
   ]
  },
  {
   "cell_type": "markdown",
   "id": "1434480f-0c17-4e1a-a6cd-b94db7db7f58",
   "metadata": {},
   "source": [
    "## top_p"
   ]
  },
  {
   "cell_type": "code",
   "execution_count": 30,
   "id": "3ff8445a-c005-4e4b-a7f0-93d3ab0e932c",
   "metadata": {},
   "outputs": [
    {
     "data": {
      "text/plain": [
       "[{'max_length': 2048,\n",
       "  'num_beams': 50,\n",
       "  'early_stopping': True,\n",
       "  'top_k': 50,\n",
       "  'top_p': 0.9},\n",
       " {'max_length': 2048,\n",
       "  'num_beams': 50,\n",
       "  'early_stopping': True,\n",
       "  'top_k': 50,\n",
       "  'top_p': 0.92},\n",
       " {'max_length': 2048,\n",
       "  'num_beams': 50,\n",
       "  'early_stopping': True,\n",
       "  'top_k': 50,\n",
       "  'top_p': 0.94},\n",
       " {'max_length': 2048,\n",
       "  'num_beams': 50,\n",
       "  'early_stopping': True,\n",
       "  'top_k': 50,\n",
       "  'top_p': 0.97},\n",
       " {'max_length': 2048,\n",
       "  'num_beams': 50,\n",
       "  'early_stopping': True,\n",
       "  'top_k': 50,\n",
       "  'top_p': 0.99}]"
      ]
     },
     "execution_count": 30,
     "metadata": {},
     "output_type": "execute_result"
    }
   ],
   "source": [
    "param_values = [{'max_length':2048, 'num_beams': 50, 'early_stopping':True,\n",
    "                 'top_k': 50, \n",
    "                 'top_p': round(i, 2)\n",
    "                } for i in np.linspace(0.9, 0.99, 5)]\n",
    "param_values"
   ]
  },
  {
   "cell_type": "code",
   "execution_count": 31,
   "id": "0d377af6-a471-4b47-9749-fb3ec3b187ce",
   "metadata": {},
   "outputs": [
    {
     "name": "stderr",
     "output_type": "stream",
     "text": [
      "100%|████████████████████████████████████████████████████████████████████████████████████| 5/5 [42:37<00:00, 511.51s/it]"
     ]
    },
    {
     "name": "stdout",
     "output_type": "stream",
     "text": [
      "CPU times: user 42min 34s, sys: 2.72 s, total: 42min 37s\n",
      "Wall time: 42min 37s\n"
     ]
    },
    {
     "name": "stderr",
     "output_type": "stream",
     "text": [
      "\n"
     ]
    },
    {
     "data": {
      "text/html": [
       "<div>\n",
       "<style scoped>\n",
       "    .dataframe tbody tr th:only-of-type {\n",
       "        vertical-align: middle;\n",
       "    }\n",
       "\n",
       "    .dataframe tbody tr th {\n",
       "        vertical-align: top;\n",
       "    }\n",
       "\n",
       "    .dataframe thead th {\n",
       "        text-align: right;\n",
       "    }\n",
       "</style>\n",
       "<table border=\"1\" class=\"dataframe\">\n",
       "  <thead>\n",
       "    <tr style=\"text-align: right;\">\n",
       "      <th></th>\n",
       "      <th>top_p</th>\n",
       "      <th>MRR</th>\n",
       "      <th>MAP</th>\n",
       "      <th>P@1</th>\n",
       "      <th>P@3</th>\n",
       "      <th>P@5</th>\n",
       "      <th>P@15</th>\n",
       "    </tr>\n",
       "  </thead>\n",
       "  <tbody>\n",
       "    <tr>\n",
       "      <th>0</th>\n",
       "      <td>0.90</td>\n",
       "      <td>0.03083</td>\n",
       "      <td>0.01516</td>\n",
       "      <td>0.02167</td>\n",
       "      <td>0.01639</td>\n",
       "      <td>0.01464</td>\n",
       "      <td>0.01406</td>\n",
       "    </tr>\n",
       "    <tr>\n",
       "      <th>1</th>\n",
       "      <td>0.92</td>\n",
       "      <td>0.03083</td>\n",
       "      <td>0.01516</td>\n",
       "      <td>0.02167</td>\n",
       "      <td>0.01639</td>\n",
       "      <td>0.01464</td>\n",
       "      <td>0.01406</td>\n",
       "    </tr>\n",
       "    <tr>\n",
       "      <th>2</th>\n",
       "      <td>0.94</td>\n",
       "      <td>0.03083</td>\n",
       "      <td>0.01516</td>\n",
       "      <td>0.02167</td>\n",
       "      <td>0.01639</td>\n",
       "      <td>0.01464</td>\n",
       "      <td>0.01406</td>\n",
       "    </tr>\n",
       "    <tr>\n",
       "      <th>3</th>\n",
       "      <td>0.97</td>\n",
       "      <td>0.03083</td>\n",
       "      <td>0.01516</td>\n",
       "      <td>0.02167</td>\n",
       "      <td>0.01639</td>\n",
       "      <td>0.01464</td>\n",
       "      <td>0.01406</td>\n",
       "    </tr>\n",
       "    <tr>\n",
       "      <th>4</th>\n",
       "      <td>0.99</td>\n",
       "      <td>0.03083</td>\n",
       "      <td>0.01516</td>\n",
       "      <td>0.02167</td>\n",
       "      <td>0.01639</td>\n",
       "      <td>0.01464</td>\n",
       "      <td>0.01406</td>\n",
       "    </tr>\n",
       "  </tbody>\n",
       "</table>\n",
       "</div>"
      ],
      "text/plain": [
       "   top_p      MRR      MAP      P@1      P@3      P@5     P@15\n",
       "0   0.90  0.03083  0.01516  0.02167  0.01639  0.01464  0.01406\n",
       "1   0.92  0.03083  0.01516  0.02167  0.01639  0.01464  0.01406\n",
       "2   0.94  0.03083  0.01516  0.02167  0.01639  0.01464  0.01406\n",
       "3   0.97  0.03083  0.01516  0.02167  0.01639  0.01464  0.01406\n",
       "4   0.99  0.03083  0.01516  0.02167  0.01639  0.01464  0.01406"
      ]
     },
     "execution_count": 31,
     "metadata": {},
     "output_type": "execute_result"
    }
   ],
   "source": [
    "%%time\n",
    "params_predict(param_values, 'top_p')\n",
    "\n",
    "pd.read_csv('top_p_params_result_table.csv')"
   ]
  },
  {
   "cell_type": "code",
   "execution_count": null,
   "id": "b7361e20-cf07-4ebf-ac9d-acc93bfb770f",
   "metadata": {},
   "outputs": [],
   "source": []
  },
  {
   "cell_type": "code",
   "execution_count": null,
   "id": "a42a1817-6df4-4a67-b9ba-32cf73d56bb2",
   "metadata": {},
   "outputs": [],
   "source": []
  },
  {
   "cell_type": "code",
   "execution_count": null,
   "id": "cfe19297-6c18-4799-8840-399019f3cca3",
   "metadata": {},
   "outputs": [],
   "source": []
  },
  {
   "cell_type": "code",
   "execution_count": null,
   "id": "ce7c06d9-acb2-4dac-b612-5ccc35bd0184",
   "metadata": {},
   "outputs": [],
   "source": []
  },
  {
   "cell_type": "code",
   "execution_count": null,
   "id": "08648775-a456-41af-9e9b-06d3e4bf3803",
   "metadata": {},
   "outputs": [],
   "source": []
  },
  {
   "cell_type": "code",
   "execution_count": null,
   "id": "3b6a4a87-fc7e-475f-a7f1-b5cbc40641f2",
   "metadata": {},
   "outputs": [],
   "source": []
  },
  {
   "cell_type": "code",
   "execution_count": null,
   "id": "36c1ca5d-0c3c-40ae-a4b4-335120a39778",
   "metadata": {},
   "outputs": [],
   "source": []
  },
  {
   "cell_type": "code",
   "execution_count": null,
   "id": "c12cc923-12f2-4789-8158-13be975e77c5",
   "metadata": {},
   "outputs": [],
   "source": []
  },
  {
   "cell_type": "code",
   "execution_count": null,
   "id": "c854cce1-b918-4ae6-91fb-1d1980950080",
   "metadata": {},
   "outputs": [],
   "source": []
  },
  {
   "cell_type": "code",
   "execution_count": null,
   "id": "05be6d39-af0f-4c60-89ba-086daca43bd8",
   "metadata": {},
   "outputs": [],
   "source": []
  },
  {
   "cell_type": "code",
   "execution_count": null,
   "id": "fc815d66-1d70-4c68-af5c-81aad99faf7a",
   "metadata": {},
   "outputs": [],
   "source": []
  },
  {
   "cell_type": "code",
   "execution_count": null,
   "id": "c2c29caa-d624-41ac-89a3-46ce89462549",
   "metadata": {},
   "outputs": [],
   "source": []
  },
  {
   "cell_type": "code",
   "execution_count": null,
   "id": "d450e1f0-8e63-4541-add1-f2050dbd200e",
   "metadata": {},
   "outputs": [],
   "source": []
  },
  {
   "cell_type": "code",
   "execution_count": null,
   "id": "be374b22-3a13-46b9-9e0b-afc484fbba30",
   "metadata": {},
   "outputs": [],
   "source": []
  },
  {
   "cell_type": "code",
   "execution_count": null,
   "id": "1e318f45-cadf-4165-82ec-a45a8fc692f5",
   "metadata": {},
   "outputs": [],
   "source": []
  },
  {
   "cell_type": "code",
   "execution_count": null,
   "id": "9d0bcad8-7e5f-4661-a92e-48c1dfb605e7",
   "metadata": {},
   "outputs": [],
   "source": []
  },
  {
   "cell_type": "code",
   "execution_count": null,
   "id": "7713c764-1688-4ac8-9bf1-27a40a5589c9",
   "metadata": {},
   "outputs": [],
   "source": []
  },
  {
   "cell_type": "code",
   "execution_count": null,
   "id": "b63d7d01-149d-4208-a93d-6a5dc146fad6",
   "metadata": {},
   "outputs": [],
   "source": []
  },
  {
   "cell_type": "code",
   "execution_count": null,
   "id": "1875bd79-c7d8-46f7-86c4-149f4a6b8927",
   "metadata": {},
   "outputs": [],
   "source": []
  },
  {
   "cell_type": "code",
   "execution_count": null,
   "id": "2a1aafce-a253-48ae-836d-543e8b9d0fb1",
   "metadata": {},
   "outputs": [],
   "source": []
  },
  {
   "cell_type": "code",
   "execution_count": null,
   "id": "687d33c9-3e28-47aa-a567-c3bffae84fb5",
   "metadata": {},
   "outputs": [],
   "source": []
  },
  {
   "cell_type": "code",
   "execution_count": null,
   "id": "cad62e8f-07d8-4f9d-bc94-e5f33b87a116",
   "metadata": {},
   "outputs": [],
   "source": []
  },
  {
   "cell_type": "code",
   "execution_count": null,
   "id": "edcaccb8-550d-4e12-9113-20b63fbb9ac8",
   "metadata": {},
   "outputs": [],
   "source": []
  },
  {
   "cell_type": "code",
   "execution_count": null,
   "id": "963033bd-1e97-480f-8b88-fc76ea5569fd",
   "metadata": {},
   "outputs": [],
   "source": []
  },
  {
   "cell_type": "code",
   "execution_count": null,
   "id": "860cb3c0-ba20-4372-b02f-6216f364d4df",
   "metadata": {},
   "outputs": [],
   "source": []
  },
  {
   "cell_type": "code",
   "execution_count": null,
   "id": "a9af7936-6b30-406b-9ffd-0a07b95b48ea",
   "metadata": {},
   "outputs": [],
   "source": []
  },
  {
   "cell_type": "code",
   "execution_count": null,
   "id": "6f200e26-2ba6-4ddf-b22b-b60169384d7e",
   "metadata": {},
   "outputs": [],
   "source": []
  },
  {
   "cell_type": "code",
   "execution_count": null,
   "id": "c9a72692-ef8e-4185-a719-f4aa472bd16c",
   "metadata": {},
   "outputs": [],
   "source": []
  },
  {
   "cell_type": "code",
   "execution_count": null,
   "id": "b6e0dfaf-5129-48a8-9b7c-c229ce18fefa",
   "metadata": {},
   "outputs": [],
   "source": []
  },
  {
   "cell_type": "code",
   "execution_count": null,
   "id": "0316d36e-b858-4de7-a92e-c543f6d3ffab",
   "metadata": {},
   "outputs": [],
   "source": []
  },
  {
   "cell_type": "code",
   "execution_count": null,
   "id": "04ebbb44-ed47-4d3e-8771-0503da7826ed",
   "metadata": {},
   "outputs": [],
   "source": []
  },
  {
   "cell_type": "code",
   "execution_count": null,
   "id": "ac658ed5-b00d-4e31-9c3a-98c607a7416c",
   "metadata": {},
   "outputs": [],
   "source": []
  },
  {
   "cell_type": "code",
   "execution_count": null,
   "id": "a88d1c3a-acac-4b43-bc34-2bd14d4344f8",
   "metadata": {},
   "outputs": [],
   "source": []
  },
  {
   "cell_type": "code",
   "execution_count": null,
   "id": "81958fae-db61-4552-b45a-1c72d4933f9e",
   "metadata": {},
   "outputs": [],
   "source": []
  },
  {
   "cell_type": "code",
   "execution_count": null,
   "id": "9f9287f2-1d11-4f0b-9d60-680b39228c39",
   "metadata": {},
   "outputs": [],
   "source": []
  }
 ],
 "metadata": {
  "kernelspec": {
   "display_name": "Python 3 (ipykernel)",
   "language": "python",
   "name": "python3"
  },
  "language_info": {
   "codemirror_mode": {
    "name": "ipython",
    "version": 3
   },
   "file_extension": ".py",
   "mimetype": "text/x-python",
   "name": "python",
   "nbconvert_exporter": "python",
   "pygments_lexer": "ipython3",
   "version": "3.10.8"
  }
 },
 "nbformat": 4,
 "nbformat_minor": 5
}
